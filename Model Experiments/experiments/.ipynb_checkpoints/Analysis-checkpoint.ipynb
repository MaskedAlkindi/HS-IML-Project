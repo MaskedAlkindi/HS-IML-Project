{
 "cells": [
  {
   "cell_type": "markdown",
   "id": "08448f50-7e70-47d6-960a-d17173f3a2ab",
   "metadata": {},
   "source": [
    "Static Malware Classfication "
   ]
  },
  {
   "cell_type": "code",
   "execution_count": 1,
   "id": "69819086-efb8-4899-adf0-73180eed52a3",
   "metadata": {},
   "outputs": [],
   "source": [
    "import mlflow\n",
    "import mlflow.sklearn\n",
    "import numpy as np\n",
    "import pandas as pd\n",
    "from sklearn.ensemble import ExtraTreesClassifier\n",
    "from sklearn.feature_selection import SelectFromModel\n",
    "from sklearn.model_selection import train_test_split\n",
    "from sklearn.tree import DecisionTreeClassifier\n",
    "from sklearn.ensemble import RandomForestClassifier\n",
    "from sklearn.svm import SVC\n",
    "from sklearn.metrics import accuracy_score"
   ]
  },
  {
   "cell_type": "code",
   "execution_count": 2,
   "id": "380a6f68-5fc8-4ae9-931b-2f3bfca85f8b",
   "metadata": {},
   "outputs": [],
   "source": [
    "# Load the dataset\n",
    "dataset = pd.read_csv('malware.csv', sep='|')\n",
    "data = pd.read_csv('malware.csv', sep='|')\n",
    "X = data.drop(['Name', 'md5', 'legitimate'], axis=1)\n",
    "y = data['legitimate']"
   ]
  },
  {
   "cell_type": "code",
   "execution_count": 3,
   "id": "fa1d2e1f-ce0b-4601-965f-d49a6abdc314",
   "metadata": {},
   "outputs": [
    {
     "data": {
      "text/plain": [
       "<Experiment: artifact_location='/Users/klmklmk/Documents/GitHub/HS-IML-Project/Model/experiments/mlruns/1', creation_time=1721150609341, experiment_id='1', last_update_time=1721150609341, lifecycle_stage='active', name='Malware_Classification', tags={}>"
      ]
     },
     "execution_count": 3,
     "metadata": {},
     "output_type": "execute_result"
    }
   ],
   "source": [
    "# Set up MLflow\n",
    "mlflow.set_tracking_uri(\"sqlite:///mlflow.db\")\n",
    "mlflow.set_experiment(\"Malware_Classification\")"
   ]
  },
  {
   "cell_type": "code",
   "execution_count": 4,
   "id": "66846ee6-6b5b-4063-bbb1-6c6dccf2476f",
   "metadata": {},
   "outputs": [
    {
     "name": "stderr",
     "output_type": "stream",
     "text": [
      "/opt/anaconda3/envs/sample/lib/python3.11/site-packages/sklearn/base.py:486: UserWarning: X has feature names, but SelectFromModel was fitted without feature names\n",
      "  warnings.warn(\n"
     ]
    }
   ],
   "source": [
    "# Feature selection\n",
    "extratrees = ExtraTreesClassifier().fit(X, y)\n",
    "model = SelectFromModel(extratrees, prefit=True)\n",
    "X_new = model.transform(X)\n",
    "nbfeatures = X_new.shape[1]"
   ]
  },
  {
   "cell_type": "code",
   "execution_count": 7,
   "id": "cc0cca86-dcf4-43d4-9390-b1906fb92f39",
   "metadata": {},
   "outputs": [
    {
     "name": "stdout",
     "output_type": "stream",
     "text": [
      "Number of selected features: 13\n",
      "Selected feature names:\n",
      "Machine\n",
      "SizeOfOptionalHeader\n",
      "Characteristics\n",
      "ImageBase\n",
      "MajorOperatingSystemVersion\n",
      "MajorSubsystemVersion\n",
      "Subsystem\n",
      "DllCharacteristics\n",
      "SizeOfStackReserve\n",
      "SectionsMaxEntropy\n",
      "ResourcesMinEntropy\n",
      "ResourcesMaxEntropy\n",
      "VersionInformationSize\n"
     ]
    }
   ],
   "source": [
    "# Print number of features\n",
    "print(f'Number of selected features: {nbfeatures}')\n",
    "\n",
    "# Get the names of the selected features\n",
    "selected_features = X.columns[model.get_support()]\n",
    "\n",
    "# Print the names of the selected features\n",
    "print('Selected feature names:')\n",
    "for feature in selected_features:\n",
    "    print(feature)"
   ]
  },
  {
   "cell_type": "code",
   "execution_count": 5,
   "id": "e2f8f365-dc95-479a-9141-3f7816357162",
   "metadata": {},
   "outputs": [],
   "source": [
    "# Split the data\n",
    "X_train, X_test, y_train, y_test = train_test_split(X_new, y, test_size=0.29, stratify=y)\n",
    "\n"
   ]
  },
  {
   "cell_type": "code",
   "execution_count": 9,
   "id": "92faf46a-2cd9-415c-9fc9-9bbdfa7adb5a",
   "metadata": {},
   "outputs": [
    {
     "name": "stdout",
     "output_type": "stream",
     "text": [
      "Number of training data rows: 98013\n",
      "Square root of the number of training data rows: 313.07027964979363\n"
     ]
    }
   ],
   "source": [
    "import math\n",
    "num_rows = X_train.shape[0]\n",
    "print(f'Number of training data rows: {num_rows}')\n",
    "\n",
    "# Calculate the square root of the number of rows\n",
    "sqrt_num_rows = math.sqrt(num_rows)\n",
    "print(f'Square root of the number of training data rows: {sqrt_num_rows}')"
   ]
  },
  {
   "cell_type": "code",
   "execution_count": 8,
   "id": "c2864849-7e4b-4dde-a8ef-f56e2372a632",
   "metadata": {},
   "outputs": [],
   "source": [
    "# N Estimators will range between 100 - 350 \n",
    "# Depth of the Tree will be around 10 - 20 "
   ]
  },
  {
   "cell_type": "code",
   "execution_count": 10,
   "id": "4d90f0df-f802-41e6-adce-3f17cfa5254a",
   "metadata": {},
   "outputs": [],
   "source": [
    "# Function to train and log models with MLflow\n",
    "def train_and_log_model(model_name, model, X_train, y_train, X_test, y_test, param_name, param_value):\n",
    "    with mlflow.start_run(run_name=f\"{model_name}_{param_name}_{param_value}\"):\n",
    "        # Train the model\n",
    "        model.fit(X_train, y_train)\n",
    "        \n",
    "        # Make predictions\n",
    "        predictions = model.predict(X_test)\n",
    "        \n",
    "        # Calculate accuracy\n",
    "        accuracy = accuracy_score(y_test, predictions)\n",
    "        \n",
    "        # Log the model and metrics\n",
    "        mlflow.sklearn.log_model(model, model_name)\n",
    "        mlflow.log_metric(\"accuracy\", accuracy)\n",
    "        mlflow.log_param(param_name, param_value)\n",
    "        \n",
    "        print(f\"{model_name} with {param_name}={param_value} : {accuracy}\")\n"
   ]
  },
  {
   "cell_type": "code",
   "execution_count": 12,
   "id": "f6b4153e-2335-4f62-a2ba-5df56ebb46cb",
   "metadata": {},
   "outputs": [
    {
     "name": "stdout",
     "output_type": "stream",
     "text": [
      "RandomForest with n_estimators=100 : 0.9938302442923515\n",
      "RandomForest with n_estimators=150 : 0.9936803716840685\n",
      "RandomForest with n_estimators=200 : 0.9937303292201629\n",
      "RandomForest with n_estimators=250 : 0.9935804566118799\n",
      "RandomForest with n_estimators=300 : 0.99375530798821\n",
      "RandomForest with n_estimators=350 : 0.9937802867562572\n"
     ]
    }
   ],
   "source": [
    "# Running experiments for RandomForest with n_estimators from 100 to 350\n",
    "for n_estimators in range(100, 351, 50):\n",
    "    model = RandomForestClassifier(n_estimators=n_estimators)\n",
    "    train_and_log_model(\"RandomForest\", model, X_train, y_train, X_test, y_test, \"n_estimators\", n_estimators)\n"
   ]
  },
  {
   "cell_type": "code",
   "execution_count": 13,
   "id": "1e2d0f40-cf78-4029-9a3a-677166766d7c",
   "metadata": {},
   "outputs": [
    {
     "name": "stdout",
     "output_type": "stream",
     "text": [
      "DecisionTree with max_depth=10 : 0.9906829195184094\n",
      "DecisionTree with max_depth=11 : 0.9904830893740321\n",
      "DecisionTree with max_depth=12 : 0.9904581106059849\n",
      "DecisionTree with max_depth=13 : 0.9904081530698906\n",
      "DecisionTree with max_depth=14 : 0.9908827496627867\n",
      "DecisionTree with max_depth=15 : 0.990782834590598\n",
      "DecisionTree with max_depth=16 : 0.9906079832142679\n",
      "DecisionTree with max_depth=17 : 0.9909327071988809\n",
      "DecisionTree with max_depth=18 : 0.990782834590598\n",
      "DecisionTree with max_depth=19 : 0.9906579407503622\n",
      "DecisionTree with max_depth=20 : 0.9903332167657491\n"
     ]
    }
   ],
   "source": [
    "# Running experiments for DecisionTree with max_depth between 10 to 20\n",
    "for max_depth in range(10, 21):\n",
    "    model = DecisionTreeClassifier(max_depth=max_depth)\n",
    "    train_and_log_model(\"DecisionTree\", model, X_train, y_train, X_test, y_test, \"max_depth\", max_depth)"
   ]
  },
  {
   "cell_type": "code",
   "execution_count": null,
   "id": "5be16d1f-fe7b-4ed8-b479-99888ab575ad",
   "metadata": {},
   "outputs": [],
   "source": [
    "''' \n",
    "Conclusion \n",
    "\n",
    "N Estimators best at 100\n",
    "\n",
    "Max Depth best at 17 \n",
    "\n",
    "'''"
   ]
  },
  {
   "cell_type": "code",
   "execution_count": 15,
   "id": "e38e74c4-3214-47bb-b33a-ba5fff460b36",
   "metadata": {},
   "outputs": [
    {
     "name": "stdout",
     "output_type": "stream",
     "text": [
      "Model saved to random_forest_100_estimators.joblib\n"
     ]
    }
   ],
   "source": [
    "import joblib\n",
    "\n",
    "# Train RandomForest model with 100 n_estimators\n",
    "model = RandomForestClassifier(n_estimators=100)\n",
    "model.fit(X_train, y_train)\n",
    "\n",
    "# Save the model to disk\n",
    "model_filename = \"random_forest_100_estimators.joblib\"\n",
    "joblib.dump(model, model_filename)\n",
    "\n",
    "print(f\"Model saved to {model_filename}\")\n"
   ]
  },
  {
   "cell_type": "code",
   "execution_count": null,
   "id": "cc413e21-fee4-4e31-8b5b-7f566005b337",
   "metadata": {},
   "outputs": [],
   "source": []
  },
  {
   "cell_type": "code",
   "execution_count": null,
   "id": "e9f3af0c-158b-43ad-9c7e-5e512523d953",
   "metadata": {},
   "outputs": [],
   "source": []
  }
 ],
 "metadata": {
  "kernelspec": {
   "display_name": "Python 3 (ipykernel)",
   "language": "python",
   "name": "python3"
  },
  "language_info": {
   "codemirror_mode": {
    "name": "ipython",
    "version": 3
   },
   "file_extension": ".py",
   "mimetype": "text/x-python",
   "name": "python",
   "nbconvert_exporter": "python",
   "pygments_lexer": "ipython3",
   "version": "3.11.9"
  }
 },
 "nbformat": 4,
 "nbformat_minor": 5
}
