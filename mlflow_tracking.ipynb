{
 "cells": [
  {
   "cell_type": "markdown",
   "id": "009f9c35",
   "metadata": {},
   "source": [
    "## NYC Taxi Data Experimnt Tracking"
   ]
  },
  {
   "cell_type": "code",
   "execution_count": 2,
   "id": "b2bd82d7",
   "metadata": {},
   "outputs": [
    {
     "name": "stdout",
     "output_type": "stream",
     "text": [
      "Python 3.11.5\n"
     ]
    }
   ],
   "source": [
    "!python -V"
   ]
  },
  {
   "cell_type": "code",
   "execution_count": null,
   "id": "67b9954c-4ffe-47fc-8aef-320166b81a23",
   "metadata": {},
   "outputs": [],
   "source": []
  },
  {
   "cell_type": "code",
   "execution_count": 1,
   "id": "24688cd0",
   "metadata": {},
   "outputs": [],
   "source": [
    "import subprocess\n",
    "import time\n",
    "from IPython.display import IFrame\n",
    "from sklearn.model_selection import train_test_split, GridSearchCV\n",
    "from tqdm import tqdm\n",
    "\n"
   ]
  },
  {
   "cell_type": "code",
   "execution_count": 2,
   "id": "8b135c2b",
   "metadata": {},
   "outputs": [],
   "source": [
    "import requests\n",
    "import pickle\n",
    "import numpy as np\n",
    "\n",
    "import pandas as pd\n",
    "\n",
    "from sklearn.ensemble import RandomForestRegressor, GradientBoostingRegressor\n",
    "from sklearn.feature_extraction import DictVectorizer\n",
    "from sklearn.linear_model import LinearRegression\n",
    "from sklearn.linear_model import Lasso\n",
    "from sklearn.linear_model import Ridge\n",
    "from sklearn.metrics import mean_squared_error\n",
    "from sklearn.svm import LinearSVR\n",
    "\n"
   ]
  },
  {
   "cell_type": "code",
   "execution_count": 5,
   "id": "f0b3c9b1",
   "metadata": {},
   "outputs": [],
   "source": [
    "train_raw_data = pd.read_parquet('data/green_tripdata_2024-03.parquet')\n",
    "val_raw_data = pd.read_parquet('data/green_tripdata_2024-04.parquet')"
   ]
  },
  {
   "cell_type": "code",
   "execution_count": 6,
   "id": "caa0c926",
   "metadata": {},
   "outputs": [
    {
     "data": {
      "text/html": [
       "<div>\n",
       "<style scoped>\n",
       "    .dataframe tbody tr th:only-of-type {\n",
       "        vertical-align: middle;\n",
       "    }\n",
       "\n",
       "    .dataframe tbody tr th {\n",
       "        vertical-align: top;\n",
       "    }\n",
       "\n",
       "    .dataframe thead th {\n",
       "        text-align: right;\n",
       "    }\n",
       "</style>\n",
       "<table border=\"1\" class=\"dataframe\">\n",
       "  <thead>\n",
       "    <tr style=\"text-align: right;\">\n",
       "      <th></th>\n",
       "      <th>VendorID</th>\n",
       "      <th>lpep_pickup_datetime</th>\n",
       "      <th>lpep_dropoff_datetime</th>\n",
       "      <th>store_and_fwd_flag</th>\n",
       "      <th>RatecodeID</th>\n",
       "      <th>PULocationID</th>\n",
       "      <th>DOLocationID</th>\n",
       "      <th>passenger_count</th>\n",
       "      <th>trip_distance</th>\n",
       "      <th>fare_amount</th>\n",
       "      <th>extra</th>\n",
       "      <th>mta_tax</th>\n",
       "      <th>tip_amount</th>\n",
       "      <th>tolls_amount</th>\n",
       "      <th>ehail_fee</th>\n",
       "      <th>improvement_surcharge</th>\n",
       "      <th>total_amount</th>\n",
       "      <th>payment_type</th>\n",
       "      <th>trip_type</th>\n",
       "      <th>congestion_surcharge</th>\n",
       "    </tr>\n",
       "  </thead>\n",
       "  <tbody>\n",
       "    <tr>\n",
       "      <th>0</th>\n",
       "      <td>2</td>\n",
       "      <td>2024-03-01 00:10:52</td>\n",
       "      <td>2024-03-01 00:26:12</td>\n",
       "      <td>N</td>\n",
       "      <td>1.0</td>\n",
       "      <td>129</td>\n",
       "      <td>226</td>\n",
       "      <td>1.0</td>\n",
       "      <td>1.72</td>\n",
       "      <td>12.8</td>\n",
       "      <td>1.0</td>\n",
       "      <td>0.5</td>\n",
       "      <td>3.06</td>\n",
       "      <td>0.0</td>\n",
       "      <td>NaN</td>\n",
       "      <td>1.0</td>\n",
       "      <td>18.36</td>\n",
       "      <td>1.0</td>\n",
       "      <td>1.0</td>\n",
       "      <td>0.00</td>\n",
       "    </tr>\n",
       "    <tr>\n",
       "      <th>1</th>\n",
       "      <td>2</td>\n",
       "      <td>2024-03-01 00:22:21</td>\n",
       "      <td>2024-03-01 00:35:15</td>\n",
       "      <td>N</td>\n",
       "      <td>1.0</td>\n",
       "      <td>130</td>\n",
       "      <td>218</td>\n",
       "      <td>1.0</td>\n",
       "      <td>3.25</td>\n",
       "      <td>17.7</td>\n",
       "      <td>1.0</td>\n",
       "      <td>0.5</td>\n",
       "      <td>0.00</td>\n",
       "      <td>0.0</td>\n",
       "      <td>NaN</td>\n",
       "      <td>1.0</td>\n",
       "      <td>20.20</td>\n",
       "      <td>2.0</td>\n",
       "      <td>1.0</td>\n",
       "      <td>0.00</td>\n",
       "    </tr>\n",
       "    <tr>\n",
       "      <th>2</th>\n",
       "      <td>2</td>\n",
       "      <td>2024-03-01 00:45:27</td>\n",
       "      <td>2024-03-01 01:04:32</td>\n",
       "      <td>N</td>\n",
       "      <td>1.0</td>\n",
       "      <td>255</td>\n",
       "      <td>107</td>\n",
       "      <td>2.0</td>\n",
       "      <td>4.58</td>\n",
       "      <td>23.3</td>\n",
       "      <td>1.0</td>\n",
       "      <td>0.5</td>\n",
       "      <td>3.50</td>\n",
       "      <td>0.0</td>\n",
       "      <td>NaN</td>\n",
       "      <td>1.0</td>\n",
       "      <td>32.05</td>\n",
       "      <td>1.0</td>\n",
       "      <td>1.0</td>\n",
       "      <td>2.75</td>\n",
       "    </tr>\n",
       "    <tr>\n",
       "      <th>3</th>\n",
       "      <td>1</td>\n",
       "      <td>2024-03-01 00:02:00</td>\n",
       "      <td>2024-03-01 00:23:45</td>\n",
       "      <td>N</td>\n",
       "      <td>1.0</td>\n",
       "      <td>181</td>\n",
       "      <td>71</td>\n",
       "      <td>1.0</td>\n",
       "      <td>0.00</td>\n",
       "      <td>22.5</td>\n",
       "      <td>0.0</td>\n",
       "      <td>1.5</td>\n",
       "      <td>0.00</td>\n",
       "      <td>0.0</td>\n",
       "      <td>NaN</td>\n",
       "      <td>1.0</td>\n",
       "      <td>24.00</td>\n",
       "      <td>1.0</td>\n",
       "      <td>1.0</td>\n",
       "      <td>0.00</td>\n",
       "    </tr>\n",
       "    <tr>\n",
       "      <th>4</th>\n",
       "      <td>2</td>\n",
       "      <td>2024-03-01 00:16:45</td>\n",
       "      <td>2024-03-01 00:23:25</td>\n",
       "      <td>N</td>\n",
       "      <td>1.0</td>\n",
       "      <td>95</td>\n",
       "      <td>135</td>\n",
       "      <td>1.0</td>\n",
       "      <td>1.15</td>\n",
       "      <td>8.6</td>\n",
       "      <td>1.0</td>\n",
       "      <td>0.5</td>\n",
       "      <td>1.00</td>\n",
       "      <td>0.0</td>\n",
       "      <td>NaN</td>\n",
       "      <td>1.0</td>\n",
       "      <td>12.10</td>\n",
       "      <td>1.0</td>\n",
       "      <td>1.0</td>\n",
       "      <td>0.00</td>\n",
       "    </tr>\n",
       "  </tbody>\n",
       "</table>\n",
       "</div>"
      ],
      "text/plain": [
       "   VendorID lpep_pickup_datetime lpep_dropoff_datetime store_and_fwd_flag  \\\n",
       "0         2  2024-03-01 00:10:52   2024-03-01 00:26:12                  N   \n",
       "1         2  2024-03-01 00:22:21   2024-03-01 00:35:15                  N   \n",
       "2         2  2024-03-01 00:45:27   2024-03-01 01:04:32                  N   \n",
       "3         1  2024-03-01 00:02:00   2024-03-01 00:23:45                  N   \n",
       "4         2  2024-03-01 00:16:45   2024-03-01 00:23:25                  N   \n",
       "\n",
       "   RatecodeID  PULocationID  DOLocationID  passenger_count  trip_distance  \\\n",
       "0         1.0           129           226              1.0           1.72   \n",
       "1         1.0           130           218              1.0           3.25   \n",
       "2         1.0           255           107              2.0           4.58   \n",
       "3         1.0           181            71              1.0           0.00   \n",
       "4         1.0            95           135              1.0           1.15   \n",
       "\n",
       "   fare_amount  extra  mta_tax  tip_amount  tolls_amount  ehail_fee  \\\n",
       "0         12.8    1.0      0.5        3.06           0.0        NaN   \n",
       "1         17.7    1.0      0.5        0.00           0.0        NaN   \n",
       "2         23.3    1.0      0.5        3.50           0.0        NaN   \n",
       "3         22.5    0.0      1.5        0.00           0.0        NaN   \n",
       "4          8.6    1.0      0.5        1.00           0.0        NaN   \n",
       "\n",
       "   improvement_surcharge  total_amount  payment_type  trip_type  \\\n",
       "0                    1.0         18.36           1.0        1.0   \n",
       "1                    1.0         20.20           2.0        1.0   \n",
       "2                    1.0         32.05           1.0        1.0   \n",
       "3                    1.0         24.00           1.0        1.0   \n",
       "4                    1.0         12.10           1.0        1.0   \n",
       "\n",
       "   congestion_surcharge  \n",
       "0                  0.00  \n",
       "1                  0.00  \n",
       "2                  2.75  \n",
       "3                  0.00  \n",
       "4                  0.00  "
      ]
     },
     "execution_count": 6,
     "metadata": {},
     "output_type": "execute_result"
    }
   ],
   "source": [
    "train_raw_data.head()"
   ]
  },
  {
   "cell_type": "code",
   "execution_count": 7,
   "id": "333bf518",
   "metadata": {},
   "outputs": [],
   "source": [
    "def process_dataframe(data):\n",
    "    data.lpep_dropoff_datetime = pd.to_datetime(data.lpep_dropoff_datetime)\n",
    "    data.lpep_pickup_datetime = pd.to_datetime(data.lpep_pickup_datetime)\n",
    "\n",
    "    data['duration'] = data.lpep_dropoff_datetime - data.lpep_pickup_datetime\n",
    "    data.duration = data.duration.apply(lambda td: td.total_seconds() / 60)\n",
    "    data = data[(data.duration >= 1) & (data.duration <= 60)] # \n",
    "    \n",
    "    data['PULocationID'].astype(str, copy=False)\n",
    "    data['DOLocationID'].astype(str, copy=False)\n",
    "    \n",
    "    return data"
   ]
  },
  {
   "cell_type": "code",
   "execution_count": 8,
   "id": "36d77ff3",
   "metadata": {},
   "outputs": [],
   "source": [
    "num_features = ['trip_distance', 'extra', 'fare_amount']\n",
    "cat_features = ['PULocationID', 'DOLocationID']"
   ]
  },
  {
   "cell_type": "code",
   "execution_count": 9,
   "id": "2e84bb84",
   "metadata": {},
   "outputs": [],
   "source": [
    "X_train = process_dataframe(train_raw_data)[num_features + cat_features]\n",
    "X_val = process_dataframe(val_raw_data)[num_features + cat_features] \n",
    "\n",
    "y_train = process_dataframe(train_raw_data)['duration']\n",
    "y_val = process_dataframe(val_raw_data)['duration'] "
   ]
  },
  {
   "cell_type": "code",
   "execution_count": 10,
   "id": "75c9826d",
   "metadata": {},
   "outputs": [
    {
     "data": {
      "text/plain": [
       "trip_distance    0\n",
       "extra            0\n",
       "fare_amount      0\n",
       "PULocationID     0\n",
       "DOLocationID     0\n",
       "dtype: int64"
      ]
     },
     "execution_count": 10,
     "metadata": {},
     "output_type": "execute_result"
    }
   ],
   "source": [
    "X_val.isnull().sum()"
   ]
  },
  {
   "cell_type": "markdown",
   "id": "ee6f0bfe",
   "metadata": {},
   "source": [
    "## Simple Experiment"
   ]
  },
  {
   "cell_type": "code",
   "execution_count": 11,
   "id": "c93df975",
   "metadata": {},
   "outputs": [
    {
     "name": "stderr",
     "output_type": "stream",
     "text": [
      "C:\\Users\\user\\PycharmProjects\\qwerty\\venv\\Lib\\site-packages\\sklearn\\metrics\\_regression.py:492: FutureWarning: 'squared' is deprecated in version 1.4 and will be removed in 1.6. To calculate the root mean squared error, use the function'root_mean_squared_error'.\n",
      "  warnings.warn(\n"
     ]
    },
    {
     "data": {
      "text/plain": [
       "5.398267721662138"
      ]
     },
     "execution_count": 11,
     "metadata": {},
     "output_type": "execute_result"
    }
   ],
   "source": [
    "lr = Ridge()\n",
    "lr.fit(X_train, y_train)\n",
    "\n",
    "y_pred = lr.predict(X_val)\n",
    "\n",
    "mean_squared_error(y_val, y_pred, squared=False)"
   ]
  },
  {
   "cell_type": "code",
   "execution_count": 12,
   "id": "26c622f7",
   "metadata": {},
   "outputs": [
    {
     "data": {
      "text/plain": [
       "14.131639061800543"
      ]
     },
     "execution_count": 12,
     "metadata": {},
     "output_type": "execute_result"
    }
   ],
   "source": [
    "np.mean(y_pred)"
   ]
  },
  {
   "cell_type": "markdown",
   "id": "288e677b",
   "metadata": {},
   "source": [
    "## MLflow tracking"
   ]
  },
  {
   "cell_type": "code",
   "execution_count": 13,
   "id": "03728b63",
   "metadata": {},
   "outputs": [],
   "source": [
    "import mlflow\n",
    "import mlflow.sklearn\n",
    "from sklearn.model_selection import train_test_split\n",
    "from sklearn.ensemble import RandomForestRegressor\n",
    "from sklearn.metrics import mean_squared_error"
   ]
  },
  {
   "cell_type": "code",
   "execution_count": 14,
   "id": "889d09c5",
   "metadata": {
    "scrolled": true
   },
   "outputs": [
    {
     "data": {
      "text/plain": [
       "<Experiment: artifact_location='file:///C:/Users/user/PycharmProjects/qwerty/mlruns/1', creation_time=1721082632454, experiment_id='1', last_update_time=1721082632454, lifecycle_stage='active', name='green_taxi', tags={}>"
      ]
     },
     "execution_count": 14,
     "metadata": {},
     "output_type": "execute_result"
    }
   ],
   "source": [
    "mlflow.set_tracking_uri(\"sqlite:///mlflow.db\")\n",
    "mlflow.set_experiment(\"green_taxi\")"
   ]
  },
  {
   "cell_type": "code",
   "execution_count": 15,
   "id": "e2f9e232",
   "metadata": {},
   "outputs": [],
   "source": [
    "sqlite_db_path = \"sqlite:///mlflow.db\"\n"
   ]
  },
  {
   "cell_type": "code",
   "execution_count": 16,
   "id": "f3819ea3",
   "metadata": {},
   "outputs": [
    {
     "data": {
      "text/plain": [
       "'C:\\\\Users\\\\user\\\\PycharmProjects\\\\qwerty'"
      ]
     },
     "execution_count": 16,
     "metadata": {},
     "output_type": "execute_result"
    }
   ],
   "source": [
    "pwd"
   ]
  },
  {
   "cell_type": "code",
   "execution_count": 19,
   "id": "c6795dcc-da24-4089-ba62-6e5edb266de9",
   "metadata": {},
   "outputs": [
    {
     "name": "stdout",
     "output_type": "stream",
     "text": [
      "rmse: 29.148545881396135\n",
      "Run ID: 1573793f0aab498dbf4127637a5d2554\n",
      "Experiment recorded (chunk executed)\n"
     ]
    }
   ],
   "source": [
    "with mlflow.start_run() as run:\n",
    "    mlflow.set_tag(\"workspace\", \"inclass\")\n",
    "    mlflow.log_param(\"model_name\", \"Lasso\")\n",
    "    mlflow.log_param(\"train_data\", \"green_tripdata_2024-03.parquet\")\n",
    "    \n",
    "    alpha = 0.1\n",
    "    lr = Lasso(alpha=alpha)\n",
    "    mlflow.log_param(\"alpha\", alpha)\n",
    "    \n",
    "    lr.fit(X_train, y_train)\n",
    "    y_pred = lr.predict(X_val)\n",
    "    \n",
    "    rmse = mean_squared_error(y_val, y_pred)\n",
    "    print('rmse:', rmse)\n",
    "    mlflow.log_metric(\"rmse\", rmse)\n",
    "    print(f\"Run ID: {run.info.run_id}\")\n",
    "\n",
    "    mlflow.end_run()\n",
    "print('Experiment recorded (chunk executed)')"
   ]
  },
  {
   "cell_type": "code",
   "execution_count": 20,
   "id": "e640f5bb",
   "metadata": {},
   "outputs": [],
   "source": [
    "import logging\n",
    "mlflow.set_tracking_uri(\"sqlite:///mlflow.db\")\n",
    "mlflow.set_experiment(\"green_taxi\")\n",
    "logging.basicConfig(level=logging.DEBUG)\n"
   ]
  },
  {
   "cell_type": "code",
   "execution_count": 17,
   "id": "8d4fe853",
   "metadata": {},
   "outputs": [
    {
     "name": "stdout",
     "output_type": "stream",
     "text": [
      "Contents of 'mlruns':\n",
      ".trash\n",
      "0\n",
      "461779665582921331\n",
      "models\n"
     ]
    }
   ],
   "source": [
    "import os\n",
    "\n",
    "# List the contents of the 'mlruns' directory\n",
    "mlruns_path = 'mlruns'\n",
    "if os.path.exists(mlruns_path):\n",
    "    contents = os.listdir(mlruns_path)\n",
    "    print(\"Contents of 'mlruns':\")\n",
    "    for item in contents:\n",
    "        print(item)\n",
    "else:\n",
    "    print(f\"The directory '{mlruns_path}' does not exist.\")\n"
   ]
  },
  {
   "cell_type": "code",
   "execution_count": 18,
   "id": "1a6572fb",
   "metadata": {},
   "outputs": [
    {
     "name": "stdout",
     "output_type": "stream",
     "text": [
      "Tables in the database: [('experiments',), ('alembic_version',), ('experiment_tags',), ('tags',), ('registered_models',), ('runs',), ('registered_model_tags',), ('model_version_tags',), ('model_versions',), ('latest_metrics',), ('metrics',), ('registered_model_aliases',), ('datasets',), ('inputs',), ('input_tags',), ('params',), ('trace_info',), ('trace_tags',), ('trace_request_metadata',)]\n",
      "query res:    experiment_id        name  \\\n",
      "0              0     Default   \n",
      "1              1  green_taxi   \n",
      "\n",
      "                                   artifact_location lifecycle_stage  \\\n",
      "0                                mlflow-artifacts:/0          active   \n",
      "1  file:///C:/Users/user/PycharmProjects/qwerty/m...          active   \n",
      "\n",
      "   creation_time  last_update_time  \n",
      "0  1721069481320     1721069481320  \n",
      "1  1721082632454     1721082632454  \n"
     ]
    }
   ],
   "source": [
    "import sqlite3\n",
    "\n",
    "# Connect to the SQLite database\n",
    "conn = sqlite3.connect('mlflow.db')\n",
    "\n",
    "# Create a cursor object\n",
    "cur = conn.cursor()\n",
    "\n",
    "# Execute a query to check the tables in the database\n",
    "cur.execute(\"SELECT name FROM sqlite_master WHERE type='table';\")\n",
    "\n",
    "# Fetch and print the results\n",
    "tables = cur.fetchall()\n",
    "print(\"Tables in the database:\", tables)\n",
    "query = \"SELECT * FROM experiments\"\n",
    "experiments_df = pd.read_sql_query(query, conn)\n",
    "\n",
    "print('query res:', experiments_df)\n",
    "# Close the connection\n",
    "conn.close()\n"
   ]
  },
  {
   "cell_type": "code",
   "execution_count": null,
   "id": "888a7604",
   "metadata": {},
   "outputs": [],
   "source": [
    "### ------------- XGBOOST -----------\n"
   ]
  },
  {
   "cell_type": "code",
   "execution_count": 19,
   "id": "0367ba18",
   "metadata": {},
   "outputs": [],
   "source": [
    "from xgboost import XGBRegressor\n"
   ]
  },
  {
   "cell_type": "code",
   "execution_count": 20,
   "id": "5fd40185",
   "metadata": {},
   "outputs": [
    {
     "name": "stderr",
     "output_type": "stream",
     "text": [
      "C:\\Users\\user\\PycharmProjects\\qwerty\\venv\\Lib\\site-packages\\sklearn\\metrics\\_regression.py:492: FutureWarning: 'squared' is deprecated in version 1.4 and will be removed in 1.6. To calculate the root mean squared error, use the function'root_mean_squared_error'.\n",
      "  warnings.warn(\n",
      "C:\\Users\\user\\PycharmProjects\\qwerty\\venv\\Lib\\site-packages\\xgboost\\core.py:158: UserWarning: [01:15:27] WARNING: C:\\buildkite-agent\\builds\\buildkite-windows-cpu-autoscaling-group-i-06abd128ca6c1688d-1\\xgboost\\xgboost-ci-windows\\src\\c_api\\c_api.cc:1374: Saving model in the UBJSON format as default.  You can use file extension: `json`, `ubj` or `deprecated` to choose between formats.\n",
      "  warnings.warn(smsg, UserWarning)\n"
     ]
    },
    {
     "name": "stdout",
     "output_type": "stream",
     "text": [
      "rmse xgboost-1 3.0408032407468317\n",
      "Run ID: d9bf5d20894141b2b786d45498825a54\n",
      "Experiment-2 recorded (chunk executed)\n"
     ]
    }
   ],
   "source": [
    "with mlflow.start_run() as run:\n",
    "    mlflow.set_tag(\"workspace\", \"inclass\")\n",
    "    mlflow.log_param(\"model_name\", \"XGBoost\")\n",
    "    mlflow.log_param(\"train_data\", \"green_tripdata_2024-03.parquet\")\n",
    "    \n",
    "    # Set parameters for XGBoost\n",
    "    params = {\n",
    "        \"objective\": \"reg:squarederror\",\n",
    "        \"learning_rate\": 0.1,\n",
    "        \"max_depth\": 6,\n",
    "        \"n_estimators\": 100\n",
    "    }\n",
    "    \n",
    "    # Log the parameters\n",
    "    for param, value in params.items():\n",
    "        mlflow.log_param(param, value)\n",
    "    \n",
    "    # Train the model\n",
    "    model = XGBRegressor(**params)\n",
    "    model.fit(X_train, y_train)\n",
    "    y_pred = model.predict(X_val)\n",
    "    \n",
    "    # Calculate RMSE\n",
    "    rmse = mean_squared_error(y_val, y_pred, squared=False)\n",
    "    print('rmse xgboost-1', rmse)\n",
    "    mlflow.log_metric(\"rmse\", rmse)\n",
    "    \n",
    "    # Log the model\n",
    "    mlflow.xgboost.log_model(model, \"model\")\n",
    "    \n",
    "    # Print run_id for verification\n",
    "    print(f\"Run ID: {run.info.run_id}\")\n",
    "\n",
    "print('Experiment-2 recorded (chunk executed)')\n"
   ]
  },
  {
   "cell_type": "code",
   "execution_count": 21,
   "id": "94b5736b",
   "metadata": {},
   "outputs": [],
   "source": [
    "from hyperopt import fmin, tpe, hp, Trials, STATUS_OK\n",
    "from xgboost import XGBRegressor, DMatrix, train as xgb_train\n",
    "\n"
   ]
  },
  {
   "cell_type": "code",
   "execution_count": 22,
   "id": "15c0e191",
   "metadata": {},
   "outputs": [],
   "source": [
    "# Define the parameter grid for GridSearchCV\n",
    "# Define the hyperparameter space\n",
    "space = {\n",
    "    'learning_rate': hp.uniform('learning_rate', 0.01, 0.2),\n",
    "    'max_depth': hp.choice('max_depth', [4, 6, 8]),\n",
    "    'gamma': hp.loguniform('gamma', -3, 0),  # loguniform parameter\n",
    "    'num_boost_round': hp.choice('num_boost_round', [100, 200, 300]),\n",
    "    'early_stopping_rounds': hp.choice('early_stopping_rounds', [10, 20, 30])\n",
    "}"
   ]
  },
  {
   "cell_type": "code",
   "execution_count": 23,
   "id": "9cbe7c2d",
   "metadata": {
    "scrolled": true
   },
   "outputs": [
    {
     "name": "stdout",
     "output_type": "stream",
     "text": [
      "  0%|                                                                                                                   | 0/50 [00:00<?, ?trial/s, best loss=?]"
     ]
    },
    {
     "name": "stderr",
     "output_type": "stream",
     "text": [
      "C:\\Users\\user\\PycharmProjects\\qwerty\\venv\\Lib\\site-packages\\sklearn\\metrics\\_regression.py:492: FutureWarning: 'squared' is deprecated in version 1.4 and will be removed in 1.6. To calculate the root mean squared error, use the function'root_mean_squared_error'.\n",
      "  warnings.warn(\n",
      "\n",
      "C:\\Users\\user\\PycharmProjects\\qwerty\\venv\\Lib\\site-packages\\xgboost\\core.py:158: UserWarning: [01:15:37] WARNING: C:\\buildkite-agent\\builds\\buildkite-windows-cpu-autoscaling-group-i-06abd128ca6c1688d-1\\xgboost\\xgboost-ci-windows\\src\\c_api\\c_api.cc:1374: Saving model in the UBJSON format as default.  You can use file extension: `json`, `ubj` or `deprecated` to choose between formats.\n",
      "  warnings.warn(smsg, UserWarning)\n",
      "\n"
     ]
    },
    {
     "name": "stdout",
     "output_type": "stream",
     "text": [
      "Run ID: bce7ec135342427786be774b6357f0b3, RMSE: 3.01484313959433                                                                                               \n",
      "  2%|█▊                                                                                         | 1/50 [00:02<02:12,  2.70s/trial, best loss: 3.01484313959433]"
     ]
    },
    {
     "name": "stderr",
     "output_type": "stream",
     "text": [
      "C:\\Users\\user\\PycharmProjects\\qwerty\\venv\\Lib\\site-packages\\_distutils_hack\\__init__.py:18: UserWarning: Distutils was imported before Setuptools, but importing Setuptools also replaces the `distutils` module in `sys.modules`. This may lead to undesirable behaviors or errors. To avoid these issues, avoid using distutils directly, ensure that setuptools is installed in the traditional way (e.g. not an editable install), and/or make sure that setuptools is always imported before distutils.\n",
      "  warnings.warn(\n",
      "\n",
      "C:\\Users\\user\\PycharmProjects\\qwerty\\venv\\Lib\\site-packages\\_distutils_hack\\__init__.py:33: UserWarning: Setuptools is replacing distutils.\n",
      "  warnings.warn(\"Setuptools is replacing distutils.\")\n",
      "\n",
      "C:\\Users\\user\\PycharmProjects\\qwerty\\venv\\Lib\\site-packages\\sklearn\\metrics\\_regression.py:492: FutureWarning: 'squared' is deprecated in version 1.4 and will be removed in 1.6. To calculate the root mean squared error, use the function'root_mean_squared_error'.\n",
      "  warnings.warn(\n",
      "\n",
      "C:\\Users\\user\\PycharmProjects\\qwerty\\venv\\Lib\\site-packages\\xgboost\\core.py:158: UserWarning: [01:15:39] WARNING: C:\\buildkite-agent\\builds\\buildkite-windows-cpu-autoscaling-group-i-06abd128ca6c1688d-1\\xgboost\\xgboost-ci-windows\\src\\c_api\\c_api.cc:1374: Saving model in the UBJSON format as default.  You can use file extension: `json`, `ubj` or `deprecated` to choose between formats.\n",
      "  warnings.warn(smsg, UserWarning)\n",
      "\n"
     ]
    },
    {
     "name": "stdout",
     "output_type": "stream",
     "text": [
      "Run ID: d492a82470a54215a57f0a70e7add3a0, RMSE: 3.232038294231299                                                                                              \n",
      "  4%|███▋                                                                                       | 2/50 [00:05<02:06,  2.63s/trial, best loss: 3.01484313959433]"
     ]
    },
    {
     "name": "stderr",
     "output_type": "stream",
     "text": [
      "C:\\Users\\user\\PycharmProjects\\qwerty\\venv\\Lib\\site-packages\\_distutils_hack\\__init__.py:18: UserWarning: Distutils was imported before Setuptools, but importing Setuptools also replaces the `distutils` module in `sys.modules`. This may lead to undesirable behaviors or errors. To avoid these issues, avoid using distutils directly, ensure that setuptools is installed in the traditional way (e.g. not an editable install), and/or make sure that setuptools is always imported before distutils.\n",
      "  warnings.warn(\n",
      "\n",
      "C:\\Users\\user\\PycharmProjects\\qwerty\\venv\\Lib\\site-packages\\_distutils_hack\\__init__.py:33: UserWarning: Setuptools is replacing distutils.\n",
      "  warnings.warn(\"Setuptools is replacing distutils.\")\n",
      "\n",
      "C:\\Users\\user\\PycharmProjects\\qwerty\\venv\\Lib\\site-packages\\sklearn\\metrics\\_regression.py:492: FutureWarning: 'squared' is deprecated in version 1.4 and will be removed in 1.6. To calculate the root mean squared error, use the function'root_mean_squared_error'.\n",
      "  warnings.warn(\n",
      "\n",
      "C:\\Users\\user\\PycharmProjects\\qwerty\\venv\\Lib\\site-packages\\xgboost\\core.py:158: UserWarning: [01:15:42] WARNING: C:\\buildkite-agent\\builds\\buildkite-windows-cpu-autoscaling-group-i-06abd128ca6c1688d-1\\xgboost\\xgboost-ci-windows\\src\\c_api\\c_api.cc:1374: Saving model in the UBJSON format as default.  You can use file extension: `json`, `ubj` or `deprecated` to choose between formats.\n",
      "  warnings.warn(smsg, UserWarning)\n",
      "\n"
     ]
    },
    {
     "name": "stdout",
     "output_type": "stream",
     "text": [
      "Run ID: 4d76b078e41f40ed94b7bd07ab97490e, RMSE: 3.2265783685751677                                                                                             \n",
      "  6%|█████▍                                                                                     | 3/50 [00:07<02:04,  2.66s/trial, best loss: 3.01484313959433]"
     ]
    },
    {
     "name": "stderr",
     "output_type": "stream",
     "text": [
      "C:\\Users\\user\\PycharmProjects\\qwerty\\venv\\Lib\\site-packages\\_distutils_hack\\__init__.py:18: UserWarning: Distutils was imported before Setuptools, but importing Setuptools also replaces the `distutils` module in `sys.modules`. This may lead to undesirable behaviors or errors. To avoid these issues, avoid using distutils directly, ensure that setuptools is installed in the traditional way (e.g. not an editable install), and/or make sure that setuptools is always imported before distutils.\n",
      "  warnings.warn(\n",
      "\n",
      "C:\\Users\\user\\PycharmProjects\\qwerty\\venv\\Lib\\site-packages\\_distutils_hack\\__init__.py:33: UserWarning: Setuptools is replacing distutils.\n",
      "  warnings.warn(\"Setuptools is replacing distutils.\")\n",
      "\n",
      "C:\\Users\\user\\PycharmProjects\\qwerty\\venv\\Lib\\site-packages\\sklearn\\metrics\\_regression.py:492: FutureWarning: 'squared' is deprecated in version 1.4 and will be removed in 1.6. To calculate the root mean squared error, use the function'root_mean_squared_error'.\n",
      "  warnings.warn(\n",
      "\n",
      "C:\\Users\\user\\PycharmProjects\\qwerty\\venv\\Lib\\site-packages\\xgboost\\core.py:158: UserWarning: [01:15:45] WARNING: C:\\buildkite-agent\\builds\\buildkite-windows-cpu-autoscaling-group-i-06abd128ca6c1688d-1\\xgboost\\xgboost-ci-windows\\src\\c_api\\c_api.cc:1374: Saving model in the UBJSON format as default.  You can use file extension: `json`, `ubj` or `deprecated` to choose between formats.\n",
      "  warnings.warn(smsg, UserWarning)\n",
      "\n"
     ]
    },
    {
     "name": "stdout",
     "output_type": "stream",
     "text": [
      "Run ID: 7428431c18744c0b93a06bafdb9e747a, RMSE: 3.0793930522102175                                                                                             \n",
      "  8%|███████▎                                                                                   | 4/50 [00:10<02:03,  2.69s/trial, best loss: 3.01484313959433]"
     ]
    },
    {
     "name": "stderr",
     "output_type": "stream",
     "text": [
      "C:\\Users\\user\\PycharmProjects\\qwerty\\venv\\Lib\\site-packages\\_distutils_hack\\__init__.py:18: UserWarning: Distutils was imported before Setuptools, but importing Setuptools also replaces the `distutils` module in `sys.modules`. This may lead to undesirable behaviors or errors. To avoid these issues, avoid using distutils directly, ensure that setuptools is installed in the traditional way (e.g. not an editable install), and/or make sure that setuptools is always imported before distutils.\n",
      "  warnings.warn(\n",
      "\n",
      "C:\\Users\\user\\PycharmProjects\\qwerty\\venv\\Lib\\site-packages\\_distutils_hack\\__init__.py:33: UserWarning: Setuptools is replacing distutils.\n",
      "  warnings.warn(\"Setuptools is replacing distutils.\")\n",
      "\n",
      "C:\\Users\\user\\PycharmProjects\\qwerty\\venv\\Lib\\site-packages\\sklearn\\metrics\\_regression.py:492: FutureWarning: 'squared' is deprecated in version 1.4 and will be removed in 1.6. To calculate the root mean squared error, use the function'root_mean_squared_error'.\n",
      "  warnings.warn(\n",
      "\n",
      "C:\\Users\\user\\PycharmProjects\\qwerty\\venv\\Lib\\site-packages\\xgboost\\core.py:158: UserWarning: [01:15:48] WARNING: C:\\buildkite-agent\\builds\\buildkite-windows-cpu-autoscaling-group-i-06abd128ca6c1688d-1\\xgboost\\xgboost-ci-windows\\src\\c_api\\c_api.cc:1374: Saving model in the UBJSON format as default.  You can use file extension: `json`, `ubj` or `deprecated` to choose between formats.\n",
      "  warnings.warn(smsg, UserWarning)\n",
      "\n"
     ]
    },
    {
     "name": "stdout",
     "output_type": "stream",
     "text": [
      "Run ID: 56c9551ce3d247ccb598a6a2e1edd7f1, RMSE: 3.0073205162480443                                                                                             \n",
      " 10%|████████▉                                                                                | 5/50 [00:13<02:03,  2.74s/trial, best loss: 3.0073205162480443]"
     ]
    },
    {
     "name": "stderr",
     "output_type": "stream",
     "text": [
      "C:\\Users\\user\\PycharmProjects\\qwerty\\venv\\Lib\\site-packages\\_distutils_hack\\__init__.py:18: UserWarning: Distutils was imported before Setuptools, but importing Setuptools also replaces the `distutils` module in `sys.modules`. This may lead to undesirable behaviors or errors. To avoid these issues, avoid using distutils directly, ensure that setuptools is installed in the traditional way (e.g. not an editable install), and/or make sure that setuptools is always imported before distutils.\n",
      "  warnings.warn(\n",
      "\n",
      "C:\\Users\\user\\PycharmProjects\\qwerty\\venv\\Lib\\site-packages\\_distutils_hack\\__init__.py:33: UserWarning: Setuptools is replacing distutils.\n",
      "  warnings.warn(\"Setuptools is replacing distutils.\")\n",
      "\n",
      "C:\\Users\\user\\PycharmProjects\\qwerty\\venv\\Lib\\site-packages\\sklearn\\metrics\\_regression.py:492: FutureWarning: 'squared' is deprecated in version 1.4 and will be removed in 1.6. To calculate the root mean squared error, use the function'root_mean_squared_error'.\n",
      "  warnings.warn(\n",
      "\n",
      "C:\\Users\\user\\PycharmProjects\\qwerty\\venv\\Lib\\site-packages\\xgboost\\core.py:158: UserWarning: [01:15:51] WARNING: C:\\buildkite-agent\\builds\\buildkite-windows-cpu-autoscaling-group-i-06abd128ca6c1688d-1\\xgboost\\xgboost-ci-windows\\src\\c_api\\c_api.cc:1374: Saving model in the UBJSON format as default.  You can use file extension: `json`, `ubj` or `deprecated` to choose between formats.\n",
      "  warnings.warn(smsg, UserWarning)\n",
      "\n"
     ]
    },
    {
     "name": "stdout",
     "output_type": "stream",
     "text": [
      "Run ID: d2c5d41c65524388bdd18e8ad385317d, RMSE: 2.9754679365078545                                                                                             \n",
      " 12%|██████████▋                                                                              | 6/50 [00:17<02:14,  3.05s/trial, best loss: 2.9754679365078545]"
     ]
    },
    {
     "name": "stderr",
     "output_type": "stream",
     "text": [
      "C:\\Users\\user\\PycharmProjects\\qwerty\\venv\\Lib\\site-packages\\_distutils_hack\\__init__.py:18: UserWarning: Distutils was imported before Setuptools, but importing Setuptools also replaces the `distutils` module in `sys.modules`. This may lead to undesirable behaviors or errors. To avoid these issues, avoid using distutils directly, ensure that setuptools is installed in the traditional way (e.g. not an editable install), and/or make sure that setuptools is always imported before distutils.\n",
      "  warnings.warn(\n",
      "\n",
      "C:\\Users\\user\\PycharmProjects\\qwerty\\venv\\Lib\\site-packages\\_distutils_hack\\__init__.py:33: UserWarning: Setuptools is replacing distutils.\n",
      "  warnings.warn(\"Setuptools is replacing distutils.\")\n",
      "\n",
      "C:\\Users\\user\\PycharmProjects\\qwerty\\venv\\Lib\\site-packages\\sklearn\\metrics\\_regression.py:492: FutureWarning: 'squared' is deprecated in version 1.4 and will be removed in 1.6. To calculate the root mean squared error, use the function'root_mean_squared_error'.\n",
      "  warnings.warn(\n",
      "\n",
      "C:\\Users\\user\\PycharmProjects\\qwerty\\venv\\Lib\\site-packages\\xgboost\\core.py:158: UserWarning: [01:15:54] WARNING: C:\\buildkite-agent\\builds\\buildkite-windows-cpu-autoscaling-group-i-06abd128ca6c1688d-1\\xgboost\\xgboost-ci-windows\\src\\c_api\\c_api.cc:1374: Saving model in the UBJSON format as default.  You can use file extension: `json`, `ubj` or `deprecated` to choose between formats.\n",
      "  warnings.warn(smsg, UserWarning)\n",
      "\n"
     ]
    },
    {
     "name": "stdout",
     "output_type": "stream",
     "text": [
      "Run ID: 10e84b330c5647639679cdc44618b880, RMSE: 3.0732172771879105                                                                                             \n",
      " 14%|████████████▍                                                                            | 7/50 [00:19<02:06,  2.93s/trial, best loss: 2.9754679365078545]"
     ]
    },
    {
     "name": "stderr",
     "output_type": "stream",
     "text": [
      "C:\\Users\\user\\PycharmProjects\\qwerty\\venv\\Lib\\site-packages\\_distutils_hack\\__init__.py:18: UserWarning: Distutils was imported before Setuptools, but importing Setuptools also replaces the `distutils` module in `sys.modules`. This may lead to undesirable behaviors or errors. To avoid these issues, avoid using distutils directly, ensure that setuptools is installed in the traditional way (e.g. not an editable install), and/or make sure that setuptools is always imported before distutils.\n",
      "  warnings.warn(\n",
      "\n",
      "C:\\Users\\user\\PycharmProjects\\qwerty\\venv\\Lib\\site-packages\\_distutils_hack\\__init__.py:33: UserWarning: Setuptools is replacing distutils.\n",
      "  warnings.warn(\"Setuptools is replacing distutils.\")\n",
      "\n",
      "C:\\Users\\user\\PycharmProjects\\qwerty\\venv\\Lib\\site-packages\\sklearn\\metrics\\_regression.py:492: FutureWarning: 'squared' is deprecated in version 1.4 and will be removed in 1.6. To calculate the root mean squared error, use the function'root_mean_squared_error'.\n",
      "  warnings.warn(\n",
      "\n",
      "C:\\Users\\user\\PycharmProjects\\qwerty\\venv\\Lib\\site-packages\\xgboost\\core.py:158: UserWarning: [01:15:56] WARNING: C:\\buildkite-agent\\builds\\buildkite-windows-cpu-autoscaling-group-i-06abd128ca6c1688d-1\\xgboost\\xgboost-ci-windows\\src\\c_api\\c_api.cc:1374: Saving model in the UBJSON format as default.  You can use file extension: `json`, `ubj` or `deprecated` to choose between formats.\n",
      "  warnings.warn(smsg, UserWarning)\n",
      "\n"
     ]
    },
    {
     "name": "stdout",
     "output_type": "stream",
     "text": [
      "Run ID: cb61562fb36e4830a51250245e146c8a, RMSE: 3.4521389404031355                                                                                             \n",
      " 16%|██████████████▏                                                                          | 8/50 [00:22<01:56,  2.78s/trial, best loss: 2.9754679365078545]"
     ]
    },
    {
     "name": "stderr",
     "output_type": "stream",
     "text": [
      "C:\\Users\\user\\PycharmProjects\\qwerty\\venv\\Lib\\site-packages\\_distutils_hack\\__init__.py:18: UserWarning: Distutils was imported before Setuptools, but importing Setuptools also replaces the `distutils` module in `sys.modules`. This may lead to undesirable behaviors or errors. To avoid these issues, avoid using distutils directly, ensure that setuptools is installed in the traditional way (e.g. not an editable install), and/or make sure that setuptools is always imported before distutils.\n",
      "  warnings.warn(\n",
      "\n",
      "C:\\Users\\user\\PycharmProjects\\qwerty\\venv\\Lib\\site-packages\\_distutils_hack\\__init__.py:33: UserWarning: Setuptools is replacing distutils.\n",
      "  warnings.warn(\"Setuptools is replacing distutils.\")\n",
      "\n",
      "C:\\Users\\user\\PycharmProjects\\qwerty\\venv\\Lib\\site-packages\\sklearn\\metrics\\_regression.py:492: FutureWarning: 'squared' is deprecated in version 1.4 and will be removed in 1.6. To calculate the root mean squared error, use the function'root_mean_squared_error'.\n",
      "  warnings.warn(\n",
      "\n",
      "C:\\Users\\user\\PycharmProjects\\qwerty\\venv\\Lib\\site-packages\\xgboost\\core.py:158: UserWarning: [01:15:59] WARNING: C:\\buildkite-agent\\builds\\buildkite-windows-cpu-autoscaling-group-i-06abd128ca6c1688d-1\\xgboost\\xgboost-ci-windows\\src\\c_api\\c_api.cc:1374: Saving model in the UBJSON format as default.  You can use file extension: `json`, `ubj` or `deprecated` to choose between formats.\n",
      "  warnings.warn(smsg, UserWarning)\n",
      "\n"
     ]
    },
    {
     "name": "stdout",
     "output_type": "stream",
     "text": [
      "Run ID: 4c2f3226836540f891f331aaa4fb0ceb, RMSE: 3.0055876206014314                                                                                             \n",
      " 18%|████████████████                                                                         | 9/50 [00:25<01:56,  2.84s/trial, best loss: 2.9754679365078545]"
     ]
    },
    {
     "name": "stderr",
     "output_type": "stream",
     "text": [
      "C:\\Users\\user\\PycharmProjects\\qwerty\\venv\\Lib\\site-packages\\_distutils_hack\\__init__.py:18: UserWarning: Distutils was imported before Setuptools, but importing Setuptools also replaces the `distutils` module in `sys.modules`. This may lead to undesirable behaviors or errors. To avoid these issues, avoid using distutils directly, ensure that setuptools is installed in the traditional way (e.g. not an editable install), and/or make sure that setuptools is always imported before distutils.\n",
      "  warnings.warn(\n",
      "\n",
      "C:\\Users\\user\\PycharmProjects\\qwerty\\venv\\Lib\\site-packages\\_distutils_hack\\__init__.py:33: UserWarning: Setuptools is replacing distutils.\n",
      "  warnings.warn(\"Setuptools is replacing distutils.\")\n",
      "\n",
      "C:\\Users\\user\\PycharmProjects\\qwerty\\venv\\Lib\\site-packages\\sklearn\\metrics\\_regression.py:492: FutureWarning: 'squared' is deprecated in version 1.4 and will be removed in 1.6. To calculate the root mean squared error, use the function'root_mean_squared_error'.\n",
      "  warnings.warn(\n",
      "\n",
      "C:\\Users\\user\\PycharmProjects\\qwerty\\venv\\Lib\\site-packages\\xgboost\\core.py:158: UserWarning: [01:16:02] WARNING: C:\\buildkite-agent\\builds\\buildkite-windows-cpu-autoscaling-group-i-06abd128ca6c1688d-1\\xgboost\\xgboost-ci-windows\\src\\c_api\\c_api.cc:1374: Saving model in the UBJSON format as default.  You can use file extension: `json`, `ubj` or `deprecated` to choose between formats.\n",
      "  warnings.warn(smsg, UserWarning)\n",
      "\n"
     ]
    },
    {
     "name": "stdout",
     "output_type": "stream",
     "text": [
      "Run ID: 9fcff2efd25549a88e6b9face8601ab5, RMSE: 3.0341576731962827                                                                                             \n",
      " 20%|█████████████████▌                                                                      | 10/50 [00:28<01:53,  2.83s/trial, best loss: 2.9754679365078545]"
     ]
    },
    {
     "name": "stderr",
     "output_type": "stream",
     "text": [
      "C:\\Users\\user\\PycharmProjects\\qwerty\\venv\\Lib\\site-packages\\_distutils_hack\\__init__.py:18: UserWarning: Distutils was imported before Setuptools, but importing Setuptools also replaces the `distutils` module in `sys.modules`. This may lead to undesirable behaviors or errors. To avoid these issues, avoid using distutils directly, ensure that setuptools is installed in the traditional way (e.g. not an editable install), and/or make sure that setuptools is always imported before distutils.\n",
      "  warnings.warn(\n",
      "\n",
      "C:\\Users\\user\\PycharmProjects\\qwerty\\venv\\Lib\\site-packages\\_distutils_hack\\__init__.py:33: UserWarning: Setuptools is replacing distutils.\n",
      "  warnings.warn(\"Setuptools is replacing distutils.\")\n",
      "\n",
      "C:\\Users\\user\\PycharmProjects\\qwerty\\venv\\Lib\\site-packages\\sklearn\\metrics\\_regression.py:492: FutureWarning: 'squared' is deprecated in version 1.4 and will be removed in 1.6. To calculate the root mean squared error, use the function'root_mean_squared_error'.\n",
      "  warnings.warn(\n",
      "\n",
      "C:\\Users\\user\\PycharmProjects\\qwerty\\venv\\Lib\\site-packages\\xgboost\\core.py:158: UserWarning: [01:16:06] WARNING: C:\\buildkite-agent\\builds\\buildkite-windows-cpu-autoscaling-group-i-06abd128ca6c1688d-1\\xgboost\\xgboost-ci-windows\\src\\c_api\\c_api.cc:1374: Saving model in the UBJSON format as default.  You can use file extension: `json`, `ubj` or `deprecated` to choose between formats.\n",
      "  warnings.warn(smsg, UserWarning)\n",
      "\n"
     ]
    },
    {
     "name": "stdout",
     "output_type": "stream",
     "text": [
      "Run ID: 40b7e9df67cf4b1386b45d847eac721e, RMSE: 2.9972247554560947                                                                                             \n",
      " 22%|███████████████████▎                                                                    | 11/50 [00:31<01:56,  2.99s/trial, best loss: 2.9754679365078545]"
     ]
    },
    {
     "name": "stderr",
     "output_type": "stream",
     "text": [
      "C:\\Users\\user\\PycharmProjects\\qwerty\\venv\\Lib\\site-packages\\_distutils_hack\\__init__.py:18: UserWarning: Distutils was imported before Setuptools, but importing Setuptools also replaces the `distutils` module in `sys.modules`. This may lead to undesirable behaviors or errors. To avoid these issues, avoid using distutils directly, ensure that setuptools is installed in the traditional way (e.g. not an editable install), and/or make sure that setuptools is always imported before distutils.\n",
      "  warnings.warn(\n",
      "\n",
      "C:\\Users\\user\\PycharmProjects\\qwerty\\venv\\Lib\\site-packages\\_distutils_hack\\__init__.py:33: UserWarning: Setuptools is replacing distutils.\n",
      "  warnings.warn(\"Setuptools is replacing distutils.\")\n",
      "\n",
      "C:\\Users\\user\\PycharmProjects\\qwerty\\venv\\Lib\\site-packages\\sklearn\\metrics\\_regression.py:492: FutureWarning: 'squared' is deprecated in version 1.4 and will be removed in 1.6. To calculate the root mean squared error, use the function'root_mean_squared_error'.\n",
      "  warnings.warn(\n",
      "\n",
      "C:\\Users\\user\\PycharmProjects\\qwerty\\venv\\Lib\\site-packages\\xgboost\\core.py:158: UserWarning: [01:16:08] WARNING: C:\\buildkite-agent\\builds\\buildkite-windows-cpu-autoscaling-group-i-06abd128ca6c1688d-1\\xgboost\\xgboost-ci-windows\\src\\c_api\\c_api.cc:1374: Saving model in the UBJSON format as default.  You can use file extension: `json`, `ubj` or `deprecated` to choose between formats.\n",
      "  warnings.warn(smsg, UserWarning)\n",
      "\n"
     ]
    },
    {
     "name": "stdout",
     "output_type": "stream",
     "text": [
      "Run ID: dc3d5fd5dd4345d4966a0f3de1e4d717, RMSE: 2.990562616783642                                                                                              \n",
      " 24%|█████████████████████                                                                   | 12/50 [00:34<01:51,  2.95s/trial, best loss: 2.9754679365078545]"
     ]
    },
    {
     "name": "stderr",
     "output_type": "stream",
     "text": [
      "C:\\Users\\user\\PycharmProjects\\qwerty\\venv\\Lib\\site-packages\\_distutils_hack\\__init__.py:18: UserWarning: Distutils was imported before Setuptools, but importing Setuptools also replaces the `distutils` module in `sys.modules`. This may lead to undesirable behaviors or errors. To avoid these issues, avoid using distutils directly, ensure that setuptools is installed in the traditional way (e.g. not an editable install), and/or make sure that setuptools is always imported before distutils.\n",
      "  warnings.warn(\n",
      "\n",
      "C:\\Users\\user\\PycharmProjects\\qwerty\\venv\\Lib\\site-packages\\_distutils_hack\\__init__.py:33: UserWarning: Setuptools is replacing distutils.\n",
      "  warnings.warn(\"Setuptools is replacing distutils.\")\n",
      "\n",
      "C:\\Users\\user\\PycharmProjects\\qwerty\\venv\\Lib\\site-packages\\sklearn\\metrics\\_regression.py:492: FutureWarning: 'squared' is deprecated in version 1.4 and will be removed in 1.6. To calculate the root mean squared error, use the function'root_mean_squared_error'.\n",
      "  warnings.warn(\n",
      "\n",
      "C:\\Users\\user\\PycharmProjects\\qwerty\\venv\\Lib\\site-packages\\xgboost\\core.py:158: UserWarning: [01:16:12] WARNING: C:\\buildkite-agent\\builds\\buildkite-windows-cpu-autoscaling-group-i-06abd128ca6c1688d-1\\xgboost\\xgboost-ci-windows\\src\\c_api\\c_api.cc:1374: Saving model in the UBJSON format as default.  You can use file extension: `json`, `ubj` or `deprecated` to choose between formats.\n",
      "  warnings.warn(smsg, UserWarning)\n",
      "\n"
     ]
    },
    {
     "name": "stdout",
     "output_type": "stream",
     "text": [
      "Run ID: ba7fc5810a2d4215a8556ff885afca27, RMSE: 2.9863883077108575                                                                                             \n",
      " 26%|██████████████████████▉                                                                 | 13/50 [00:37<01:57,  3.17s/trial, best loss: 2.9754679365078545]"
     ]
    },
    {
     "name": "stderr",
     "output_type": "stream",
     "text": [
      "C:\\Users\\user\\PycharmProjects\\qwerty\\venv\\Lib\\site-packages\\_distutils_hack\\__init__.py:18: UserWarning: Distutils was imported before Setuptools, but importing Setuptools also replaces the `distutils` module in `sys.modules`. This may lead to undesirable behaviors or errors. To avoid these issues, avoid using distutils directly, ensure that setuptools is installed in the traditional way (e.g. not an editable install), and/or make sure that setuptools is always imported before distutils.\n",
      "  warnings.warn(\n",
      "\n",
      "C:\\Users\\user\\PycharmProjects\\qwerty\\venv\\Lib\\site-packages\\_distutils_hack\\__init__.py:33: UserWarning: Setuptools is replacing distutils.\n",
      "  warnings.warn(\"Setuptools is replacing distutils.\")\n",
      "\n",
      "C:\\Users\\user\\PycharmProjects\\qwerty\\venv\\Lib\\site-packages\\sklearn\\metrics\\_regression.py:492: FutureWarning: 'squared' is deprecated in version 1.4 and will be removed in 1.6. To calculate the root mean squared error, use the function'root_mean_squared_error'.\n",
      "  warnings.warn(\n",
      "\n",
      "C:\\Users\\user\\PycharmProjects\\qwerty\\venv\\Lib\\site-packages\\xgboost\\core.py:158: UserWarning: [01:16:15] WARNING: C:\\buildkite-agent\\builds\\buildkite-windows-cpu-autoscaling-group-i-06abd128ca6c1688d-1\\xgboost\\xgboost-ci-windows\\src\\c_api\\c_api.cc:1374: Saving model in the UBJSON format as default.  You can use file extension: `json`, `ubj` or `deprecated` to choose between formats.\n",
      "  warnings.warn(smsg, UserWarning)\n",
      "\n"
     ]
    },
    {
     "name": "stdout",
     "output_type": "stream",
     "text": [
      "Run ID: 8b12da859f544508859b36a95a2da4fb, RMSE: 3.0167669855053307                                                                                             \n",
      " 28%|████████████████████████▋                                                               | 14/50 [00:41<01:53,  3.17s/trial, best loss: 2.9754679365078545]"
     ]
    },
    {
     "name": "stderr",
     "output_type": "stream",
     "text": [
      "C:\\Users\\user\\PycharmProjects\\qwerty\\venv\\Lib\\site-packages\\_distutils_hack\\__init__.py:18: UserWarning: Distutils was imported before Setuptools, but importing Setuptools also replaces the `distutils` module in `sys.modules`. This may lead to undesirable behaviors or errors. To avoid these issues, avoid using distutils directly, ensure that setuptools is installed in the traditional way (e.g. not an editable install), and/or make sure that setuptools is always imported before distutils.\n",
      "  warnings.warn(\n",
      "\n",
      "C:\\Users\\user\\PycharmProjects\\qwerty\\venv\\Lib\\site-packages\\_distutils_hack\\__init__.py:33: UserWarning: Setuptools is replacing distutils.\n",
      "  warnings.warn(\"Setuptools is replacing distutils.\")\n",
      "\n",
      "C:\\Users\\user\\PycharmProjects\\qwerty\\venv\\Lib\\site-packages\\sklearn\\metrics\\_regression.py:492: FutureWarning: 'squared' is deprecated in version 1.4 and will be removed in 1.6. To calculate the root mean squared error, use the function'root_mean_squared_error'.\n",
      "  warnings.warn(\n",
      "\n",
      "C:\\Users\\user\\PycharmProjects\\qwerty\\venv\\Lib\\site-packages\\xgboost\\core.py:158: UserWarning: [01:16:18] WARNING: C:\\buildkite-agent\\builds\\buildkite-windows-cpu-autoscaling-group-i-06abd128ca6c1688d-1\\xgboost\\xgboost-ci-windows\\src\\c_api\\c_api.cc:1374: Saving model in the UBJSON format as default.  You can use file extension: `json`, `ubj` or `deprecated` to choose between formats.\n",
      "  warnings.warn(smsg, UserWarning)\n",
      "\n"
     ]
    },
    {
     "name": "stdout",
     "output_type": "stream",
     "text": [
      "Run ID: a7f639202b444420bcdb6e9d64386c70, RMSE: 3.0246422713579615                                                                                             \n",
      " 30%|██████████████████████████▍                                                             | 15/50 [00:44<01:49,  3.14s/trial, best loss: 2.9754679365078545]"
     ]
    },
    {
     "name": "stderr",
     "output_type": "stream",
     "text": [
      "C:\\Users\\user\\PycharmProjects\\qwerty\\venv\\Lib\\site-packages\\_distutils_hack\\__init__.py:18: UserWarning: Distutils was imported before Setuptools, but importing Setuptools also replaces the `distutils` module in `sys.modules`. This may lead to undesirable behaviors or errors. To avoid these issues, avoid using distutils directly, ensure that setuptools is installed in the traditional way (e.g. not an editable install), and/or make sure that setuptools is always imported before distutils.\n",
      "  warnings.warn(\n",
      "\n",
      "C:\\Users\\user\\PycharmProjects\\qwerty\\venv\\Lib\\site-packages\\_distutils_hack\\__init__.py:33: UserWarning: Setuptools is replacing distutils.\n",
      "  warnings.warn(\"Setuptools is replacing distutils.\")\n",
      "\n",
      "C:\\Users\\user\\PycharmProjects\\qwerty\\venv\\Lib\\site-packages\\sklearn\\metrics\\_regression.py:492: FutureWarning: 'squared' is deprecated in version 1.4 and will be removed in 1.6. To calculate the root mean squared error, use the function'root_mean_squared_error'.\n",
      "  warnings.warn(\n",
      "\n",
      "C:\\Users\\user\\PycharmProjects\\qwerty\\venv\\Lib\\site-packages\\xgboost\\core.py:158: UserWarning: [01:16:21] WARNING: C:\\buildkite-agent\\builds\\buildkite-windows-cpu-autoscaling-group-i-06abd128ca6c1688d-1\\xgboost\\xgboost-ci-windows\\src\\c_api\\c_api.cc:1374: Saving model in the UBJSON format as default.  You can use file extension: `json`, `ubj` or `deprecated` to choose between formats.\n",
      "  warnings.warn(smsg, UserWarning)\n",
      "\n"
     ]
    },
    {
     "name": "stdout",
     "output_type": "stream",
     "text": [
      "Run ID: cce49f52241f464aa5f21691ecf7f2c7, RMSE: 2.984166933997451                                                                                              \n",
      " 32%|████████████████████████████▏                                                           | 16/50 [00:47<01:43,  3.05s/trial, best loss: 2.9754679365078545]"
     ]
    },
    {
     "name": "stderr",
     "output_type": "stream",
     "text": [
      "C:\\Users\\user\\PycharmProjects\\qwerty\\venv\\Lib\\site-packages\\_distutils_hack\\__init__.py:18: UserWarning: Distutils was imported before Setuptools, but importing Setuptools also replaces the `distutils` module in `sys.modules`. This may lead to undesirable behaviors or errors. To avoid these issues, avoid using distutils directly, ensure that setuptools is installed in the traditional way (e.g. not an editable install), and/or make sure that setuptools is always imported before distutils.\n",
      "  warnings.warn(\n",
      "\n",
      "C:\\Users\\user\\PycharmProjects\\qwerty\\venv\\Lib\\site-packages\\_distutils_hack\\__init__.py:33: UserWarning: Setuptools is replacing distutils.\n",
      "  warnings.warn(\"Setuptools is replacing distutils.\")\n",
      "\n",
      "C:\\Users\\user\\PycharmProjects\\qwerty\\venv\\Lib\\site-packages\\sklearn\\metrics\\_regression.py:492: FutureWarning: 'squared' is deprecated in version 1.4 and will be removed in 1.6. To calculate the root mean squared error, use the function'root_mean_squared_error'.\n",
      "  warnings.warn(\n",
      "\n",
      "C:\\Users\\user\\PycharmProjects\\qwerty\\venv\\Lib\\site-packages\\xgboost\\core.py:158: UserWarning: [01:16:24] WARNING: C:\\buildkite-agent\\builds\\buildkite-windows-cpu-autoscaling-group-i-06abd128ca6c1688d-1\\xgboost\\xgboost-ci-windows\\src\\c_api\\c_api.cc:1374: Saving model in the UBJSON format as default.  You can use file extension: `json`, `ubj` or `deprecated` to choose between formats.\n",
      "  warnings.warn(smsg, UserWarning)\n",
      "\n"
     ]
    },
    {
     "name": "stdout",
     "output_type": "stream",
     "text": [
      "Run ID: 05ce86cfbbb74cd7aca664bff8f43a0d, RMSE: 3.021457201689418                                                                                              \n",
      " 34%|█████████████████████████████▉                                                          | 17/50 [00:50<01:40,  3.05s/trial, best loss: 2.9754679365078545]"
     ]
    },
    {
     "name": "stderr",
     "output_type": "stream",
     "text": [
      "C:\\Users\\user\\PycharmProjects\\qwerty\\venv\\Lib\\site-packages\\_distutils_hack\\__init__.py:18: UserWarning: Distutils was imported before Setuptools, but importing Setuptools also replaces the `distutils` module in `sys.modules`. This may lead to undesirable behaviors or errors. To avoid these issues, avoid using distutils directly, ensure that setuptools is installed in the traditional way (e.g. not an editable install), and/or make sure that setuptools is always imported before distutils.\n",
      "  warnings.warn(\n",
      "\n",
      "C:\\Users\\user\\PycharmProjects\\qwerty\\venv\\Lib\\site-packages\\_distutils_hack\\__init__.py:33: UserWarning: Setuptools is replacing distutils.\n",
      "  warnings.warn(\"Setuptools is replacing distutils.\")\n",
      "\n",
      "C:\\Users\\user\\PycharmProjects\\qwerty\\venv\\Lib\\site-packages\\sklearn\\metrics\\_regression.py:492: FutureWarning: 'squared' is deprecated in version 1.4 and will be removed in 1.6. To calculate the root mean squared error, use the function'root_mean_squared_error'.\n",
      "  warnings.warn(\n",
      "\n",
      "C:\\Users\\user\\PycharmProjects\\qwerty\\venv\\Lib\\site-packages\\xgboost\\core.py:158: UserWarning: [01:16:27] WARNING: C:\\buildkite-agent\\builds\\buildkite-windows-cpu-autoscaling-group-i-06abd128ca6c1688d-1\\xgboost\\xgboost-ci-windows\\src\\c_api\\c_api.cc:1374: Saving model in the UBJSON format as default.  You can use file extension: `json`, `ubj` or `deprecated` to choose between formats.\n",
      "  warnings.warn(smsg, UserWarning)\n",
      "\n"
     ]
    },
    {
     "name": "stdout",
     "output_type": "stream",
     "text": [
      "Run ID: 9a9dfd1303e742ff8850066d554f6da5, RMSE: 3.0309830190460967                                                                                             \n",
      " 36%|███████████████████████████████▋                                                        | 18/50 [00:53<01:37,  3.05s/trial, best loss: 2.9754679365078545]"
     ]
    },
    {
     "name": "stderr",
     "output_type": "stream",
     "text": [
      "C:\\Users\\user\\PycharmProjects\\qwerty\\venv\\Lib\\site-packages\\_distutils_hack\\__init__.py:18: UserWarning: Distutils was imported before Setuptools, but importing Setuptools also replaces the `distutils` module in `sys.modules`. This may lead to undesirable behaviors or errors. To avoid these issues, avoid using distutils directly, ensure that setuptools is installed in the traditional way (e.g. not an editable install), and/or make sure that setuptools is always imported before distutils.\n",
      "  warnings.warn(\n",
      "\n",
      "C:\\Users\\user\\PycharmProjects\\qwerty\\venv\\Lib\\site-packages\\_distutils_hack\\__init__.py:33: UserWarning: Setuptools is replacing distutils.\n",
      "  warnings.warn(\"Setuptools is replacing distutils.\")\n",
      "\n",
      "C:\\Users\\user\\PycharmProjects\\qwerty\\venv\\Lib\\site-packages\\sklearn\\metrics\\_regression.py:492: FutureWarning: 'squared' is deprecated in version 1.4 and will be removed in 1.6. To calculate the root mean squared error, use the function'root_mean_squared_error'.\n",
      "  warnings.warn(\n",
      "\n",
      "C:\\Users\\user\\PycharmProjects\\qwerty\\venv\\Lib\\site-packages\\xgboost\\core.py:158: UserWarning: [01:16:30] WARNING: C:\\buildkite-agent\\builds\\buildkite-windows-cpu-autoscaling-group-i-06abd128ca6c1688d-1\\xgboost\\xgboost-ci-windows\\src\\c_api\\c_api.cc:1374: Saving model in the UBJSON format as default.  You can use file extension: `json`, `ubj` or `deprecated` to choose between formats.\n",
      "  warnings.warn(smsg, UserWarning)\n",
      "\n"
     ]
    },
    {
     "name": "stdout",
     "output_type": "stream",
     "text": [
      "Run ID: 8ee39e8a61aa4ea4ba4604f8a6a5035e, RMSE: 3.003831654013616                                                                                              \n",
      " 38%|█████████████████████████████████▍                                                      | 19/50 [00:55<01:29,  2.89s/trial, best loss: 2.9754679365078545]"
     ]
    },
    {
     "name": "stderr",
     "output_type": "stream",
     "text": [
      "C:\\Users\\user\\PycharmProjects\\qwerty\\venv\\Lib\\site-packages\\_distutils_hack\\__init__.py:18: UserWarning: Distutils was imported before Setuptools, but importing Setuptools also replaces the `distutils` module in `sys.modules`. This may lead to undesirable behaviors or errors. To avoid these issues, avoid using distutils directly, ensure that setuptools is installed in the traditional way (e.g. not an editable install), and/or make sure that setuptools is always imported before distutils.\n",
      "  warnings.warn(\n",
      "\n",
      "C:\\Users\\user\\PycharmProjects\\qwerty\\venv\\Lib\\site-packages\\_distutils_hack\\__init__.py:33: UserWarning: Setuptools is replacing distutils.\n",
      "  warnings.warn(\"Setuptools is replacing distutils.\")\n",
      "\n",
      "C:\\Users\\user\\PycharmProjects\\qwerty\\venv\\Lib\\site-packages\\sklearn\\metrics\\_regression.py:492: FutureWarning: 'squared' is deprecated in version 1.4 and will be removed in 1.6. To calculate the root mean squared error, use the function'root_mean_squared_error'.\n",
      "  warnings.warn(\n",
      "\n",
      "C:\\Users\\user\\PycharmProjects\\qwerty\\venv\\Lib\\site-packages\\xgboost\\core.py:158: UserWarning: [01:16:33] WARNING: C:\\buildkite-agent\\builds\\buildkite-windows-cpu-autoscaling-group-i-06abd128ca6c1688d-1\\xgboost\\xgboost-ci-windows\\src\\c_api\\c_api.cc:1374: Saving model in the UBJSON format as default.  You can use file extension: `json`, `ubj` or `deprecated` to choose between formats.\n",
      "  warnings.warn(smsg, UserWarning)\n",
      "\n"
     ]
    },
    {
     "name": "stdout",
     "output_type": "stream",
     "text": [
      "Run ID: 41a46aceeb23499c909560870aa338dd, RMSE: 3.1181310715545876                                                                                             \n",
      " 40%|███████████████████████████████████▏                                                    | 20/50 [00:58<01:25,  2.84s/trial, best loss: 2.9754679365078545]"
     ]
    },
    {
     "name": "stderr",
     "output_type": "stream",
     "text": [
      "C:\\Users\\user\\PycharmProjects\\qwerty\\venv\\Lib\\site-packages\\_distutils_hack\\__init__.py:18: UserWarning: Distutils was imported before Setuptools, but importing Setuptools also replaces the `distutils` module in `sys.modules`. This may lead to undesirable behaviors or errors. To avoid these issues, avoid using distutils directly, ensure that setuptools is installed in the traditional way (e.g. not an editable install), and/or make sure that setuptools is always imported before distutils.\n",
      "  warnings.warn(\n",
      "\n",
      "C:\\Users\\user\\PycharmProjects\\qwerty\\venv\\Lib\\site-packages\\_distutils_hack\\__init__.py:33: UserWarning: Setuptools is replacing distutils.\n",
      "  warnings.warn(\"Setuptools is replacing distutils.\")\n",
      "\n",
      "C:\\Users\\user\\PycharmProjects\\qwerty\\venv\\Lib\\site-packages\\sklearn\\metrics\\_regression.py:492: FutureWarning: 'squared' is deprecated in version 1.4 and will be removed in 1.6. To calculate the root mean squared error, use the function'root_mean_squared_error'.\n",
      "  warnings.warn(\n",
      "\n",
      "C:\\Users\\user\\PycharmProjects\\qwerty\\venv\\Lib\\site-packages\\xgboost\\core.py:158: UserWarning: [01:16:36] WARNING: C:\\buildkite-agent\\builds\\buildkite-windows-cpu-autoscaling-group-i-06abd128ca6c1688d-1\\xgboost\\xgboost-ci-windows\\src\\c_api\\c_api.cc:1374: Saving model in the UBJSON format as default.  You can use file extension: `json`, `ubj` or `deprecated` to choose between formats.\n",
      "  warnings.warn(smsg, UserWarning)\n",
      "\n"
     ]
    },
    {
     "name": "stdout",
     "output_type": "stream",
     "text": [
      "Run ID: bc70c3a01bbb422ea9579c35fa505397, RMSE: 2.993232175659157                                                                                              \n",
      " 42%|████████████████████████████████████▉                                                   | 21/50 [01:01<01:26,  3.00s/trial, best loss: 2.9754679365078545]"
     ]
    },
    {
     "name": "stderr",
     "output_type": "stream",
     "text": [
      "C:\\Users\\user\\PycharmProjects\\qwerty\\venv\\Lib\\site-packages\\_distutils_hack\\__init__.py:18: UserWarning: Distutils was imported before Setuptools, but importing Setuptools also replaces the `distutils` module in `sys.modules`. This may lead to undesirable behaviors or errors. To avoid these issues, avoid using distutils directly, ensure that setuptools is installed in the traditional way (e.g. not an editable install), and/or make sure that setuptools is always imported before distutils.\n",
      "  warnings.warn(\n",
      "\n",
      "C:\\Users\\user\\PycharmProjects\\qwerty\\venv\\Lib\\site-packages\\_distutils_hack\\__init__.py:33: UserWarning: Setuptools is replacing distutils.\n",
      "  warnings.warn(\"Setuptools is replacing distutils.\")\n",
      "\n",
      "C:\\Users\\user\\PycharmProjects\\qwerty\\venv\\Lib\\site-packages\\sklearn\\metrics\\_regression.py:492: FutureWarning: 'squared' is deprecated in version 1.4 and will be removed in 1.6. To calculate the root mean squared error, use the function'root_mean_squared_error'.\n",
      "  warnings.warn(\n",
      "\n",
      "C:\\Users\\user\\PycharmProjects\\qwerty\\venv\\Lib\\site-packages\\xgboost\\core.py:158: UserWarning: [01:16:39] WARNING: C:\\buildkite-agent\\builds\\buildkite-windows-cpu-autoscaling-group-i-06abd128ca6c1688d-1\\xgboost\\xgboost-ci-windows\\src\\c_api\\c_api.cc:1374: Saving model in the UBJSON format as default.  You can use file extension: `json`, `ubj` or `deprecated` to choose between formats.\n",
      "  warnings.warn(smsg, UserWarning)\n",
      "\n"
     ]
    },
    {
     "name": "stdout",
     "output_type": "stream",
     "text": [
      "Run ID: d2b376d1662f4cbaaf6f4087e2b9d997, RMSE: 2.9954255324803643                                                                                             \n",
      " 44%|██████████████████████████████████████▋                                                 | 22/50 [01:05<01:27,  3.11s/trial, best loss: 2.9754679365078545]"
     ]
    },
    {
     "name": "stderr",
     "output_type": "stream",
     "text": [
      "C:\\Users\\user\\PycharmProjects\\qwerty\\venv\\Lib\\site-packages\\_distutils_hack\\__init__.py:18: UserWarning: Distutils was imported before Setuptools, but importing Setuptools also replaces the `distutils` module in `sys.modules`. This may lead to undesirable behaviors or errors. To avoid these issues, avoid using distutils directly, ensure that setuptools is installed in the traditional way (e.g. not an editable install), and/or make sure that setuptools is always imported before distutils.\n",
      "  warnings.warn(\n",
      "\n",
      "C:\\Users\\user\\PycharmProjects\\qwerty\\venv\\Lib\\site-packages\\_distutils_hack\\__init__.py:33: UserWarning: Setuptools is replacing distutils.\n",
      "  warnings.warn(\"Setuptools is replacing distutils.\")\n",
      "\n",
      "C:\\Users\\user\\PycharmProjects\\qwerty\\venv\\Lib\\site-packages\\sklearn\\metrics\\_regression.py:492: FutureWarning: 'squared' is deprecated in version 1.4 and will be removed in 1.6. To calculate the root mean squared error, use the function'root_mean_squared_error'.\n",
      "  warnings.warn(\n",
      "\n",
      "C:\\Users\\user\\PycharmProjects\\qwerty\\venv\\Lib\\site-packages\\xgboost\\core.py:158: UserWarning: [01:16:43] WARNING: C:\\buildkite-agent\\builds\\buildkite-windows-cpu-autoscaling-group-i-06abd128ca6c1688d-1\\xgboost\\xgboost-ci-windows\\src\\c_api\\c_api.cc:1374: Saving model in the UBJSON format as default.  You can use file extension: `json`, `ubj` or `deprecated` to choose between formats.\n",
      "  warnings.warn(smsg, UserWarning)\n",
      "\n"
     ]
    },
    {
     "name": "stdout",
     "output_type": "stream",
     "text": [
      "Run ID: d55153c98bde4ccba0c2584f18a9d572, RMSE: 3.0005930012323665                                                                                             \n",
      " 46%|████████████████████████████████████████▍                                               | 23/50 [01:08<01:26,  3.19s/trial, best loss: 2.9754679365078545]"
     ]
    },
    {
     "name": "stderr",
     "output_type": "stream",
     "text": [
      "C:\\Users\\user\\PycharmProjects\\qwerty\\venv\\Lib\\site-packages\\_distutils_hack\\__init__.py:18: UserWarning: Distutils was imported before Setuptools, but importing Setuptools also replaces the `distutils` module in `sys.modules`. This may lead to undesirable behaviors or errors. To avoid these issues, avoid using distutils directly, ensure that setuptools is installed in the traditional way (e.g. not an editable install), and/or make sure that setuptools is always imported before distutils.\n",
      "  warnings.warn(\n",
      "\n",
      "C:\\Users\\user\\PycharmProjects\\qwerty\\venv\\Lib\\site-packages\\_distutils_hack\\__init__.py:33: UserWarning: Setuptools is replacing distutils.\n",
      "  warnings.warn(\"Setuptools is replacing distutils.\")\n",
      "\n",
      "C:\\Users\\user\\PycharmProjects\\qwerty\\venv\\Lib\\site-packages\\sklearn\\metrics\\_regression.py:492: FutureWarning: 'squared' is deprecated in version 1.4 and will be removed in 1.6. To calculate the root mean squared error, use the function'root_mean_squared_error'.\n",
      "  warnings.warn(\n",
      "\n",
      "C:\\Users\\user\\PycharmProjects\\qwerty\\venv\\Lib\\site-packages\\xgboost\\core.py:158: UserWarning: [01:16:46] WARNING: C:\\buildkite-agent\\builds\\buildkite-windows-cpu-autoscaling-group-i-06abd128ca6c1688d-1\\xgboost\\xgboost-ci-windows\\src\\c_api\\c_api.cc:1374: Saving model in the UBJSON format as default.  You can use file extension: `json`, `ubj` or `deprecated` to choose between formats.\n",
      "  warnings.warn(smsg, UserWarning)\n",
      "\n",
      "C:\\Users\\user\\PycharmProjects\\qwerty\\venv\\Lib\\site-packages\\_distutils_hack\\__init__.py:18: UserWarning: Distutils was imported before Setuptools, but importing Setuptools also replaces the `distutils` module in `sys.modules`. This may lead to undesirable behaviors or errors. To avoid these issues, avoid using distutils directly, ensure that setuptools is installed in the traditional way (e.g. not an editable install), and/or make sure that setuptools is always imported before distutils.\n",
      "  warnings.warn(\n",
      "\n",
      "C:\\Users\\user\\PycharmProjects\\qwerty\\venv\\Lib\\site-packages\\_distutils_hack\\__init__.py:33: UserWarning: Setuptools is replacing distutils.\n",
      "  warnings.warn(\"Setuptools is replacing distutils.\")\n",
      "\n"
     ]
    },
    {
     "name": "stdout",
     "output_type": "stream",
     "text": [
      "Run ID: aa6f1caef7da49b7961d7a75ee365e5e, RMSE: 3.0798336177734202                                                                                             \n",
      " 48%|██████████████████████████████████████████▏                                             | 24/50 [01:12<01:28,  3.42s/trial, best loss: 2.9754679365078545]"
     ]
    },
    {
     "name": "stderr",
     "output_type": "stream",
     "text": [
      "C:\\Users\\user\\PycharmProjects\\qwerty\\venv\\Lib\\site-packages\\sklearn\\metrics\\_regression.py:492: FutureWarning: 'squared' is deprecated in version 1.4 and will be removed in 1.6. To calculate the root mean squared error, use the function'root_mean_squared_error'.\n",
      "  warnings.warn(\n",
      "\n",
      "C:\\Users\\user\\PycharmProjects\\qwerty\\venv\\Lib\\site-packages\\xgboost\\core.py:158: UserWarning: [01:16:50] WARNING: C:\\buildkite-agent\\builds\\buildkite-windows-cpu-autoscaling-group-i-06abd128ca6c1688d-1\\xgboost\\xgboost-ci-windows\\src\\c_api\\c_api.cc:1374: Saving model in the UBJSON format as default.  You can use file extension: `json`, `ubj` or `deprecated` to choose between formats.\n",
      "  warnings.warn(smsg, UserWarning)\n",
      "\n"
     ]
    },
    {
     "name": "stdout",
     "output_type": "stream",
     "text": [
      "Run ID: 0366fd88d0a649b8825017d10efe5cbd, RMSE: 3.2518824002075783                                                                                             \n",
      " 50%|████████████████████████████████████████████                                            | 25/50 [01:15<01:25,  3.44s/trial, best loss: 2.9754679365078545]"
     ]
    },
    {
     "name": "stderr",
     "output_type": "stream",
     "text": [
      "C:\\Users\\user\\PycharmProjects\\qwerty\\venv\\Lib\\site-packages\\_distutils_hack\\__init__.py:18: UserWarning: Distutils was imported before Setuptools, but importing Setuptools also replaces the `distutils` module in `sys.modules`. This may lead to undesirable behaviors or errors. To avoid these issues, avoid using distutils directly, ensure that setuptools is installed in the traditional way (e.g. not an editable install), and/or make sure that setuptools is always imported before distutils.\n",
      "  warnings.warn(\n",
      "\n",
      "C:\\Users\\user\\PycharmProjects\\qwerty\\venv\\Lib\\site-packages\\_distutils_hack\\__init__.py:33: UserWarning: Setuptools is replacing distutils.\n",
      "  warnings.warn(\"Setuptools is replacing distutils.\")\n",
      "\n",
      "C:\\Users\\user\\PycharmProjects\\qwerty\\venv\\Lib\\site-packages\\sklearn\\metrics\\_regression.py:492: FutureWarning: 'squared' is deprecated in version 1.4 and will be removed in 1.6. To calculate the root mean squared error, use the function'root_mean_squared_error'.\n",
      "  warnings.warn(\n",
      "\n",
      "C:\\Users\\user\\PycharmProjects\\qwerty\\venv\\Lib\\site-packages\\xgboost\\core.py:158: UserWarning: [01:16:54] WARNING: C:\\buildkite-agent\\builds\\buildkite-windows-cpu-autoscaling-group-i-06abd128ca6c1688d-1\\xgboost\\xgboost-ci-windows\\src\\c_api\\c_api.cc:1374: Saving model in the UBJSON format as default.  You can use file extension: `json`, `ubj` or `deprecated` to choose between formats.\n",
      "  warnings.warn(smsg, UserWarning)\n",
      "\n"
     ]
    },
    {
     "name": "stdout",
     "output_type": "stream",
     "text": [
      "Run ID: 8c7ecb3d18904d518f8cd7fb880adea4, RMSE: 3.00061507092604                                                                                               \n",
      " 52%|█████████████████████████████████████████████▊                                          | 26/50 [01:19<01:26,  3.58s/trial, best loss: 2.9754679365078545]"
     ]
    },
    {
     "name": "stderr",
     "output_type": "stream",
     "text": [
      "C:\\Users\\user\\PycharmProjects\\qwerty\\venv\\Lib\\site-packages\\_distutils_hack\\__init__.py:18: UserWarning: Distutils was imported before Setuptools, but importing Setuptools also replaces the `distutils` module in `sys.modules`. This may lead to undesirable behaviors or errors. To avoid these issues, avoid using distutils directly, ensure that setuptools is installed in the traditional way (e.g. not an editable install), and/or make sure that setuptools is always imported before distutils.\n",
      "  warnings.warn(\n",
      "\n",
      "C:\\Users\\user\\PycharmProjects\\qwerty\\venv\\Lib\\site-packages\\_distutils_hack\\__init__.py:33: UserWarning: Setuptools is replacing distutils.\n",
      "  warnings.warn(\"Setuptools is replacing distutils.\")\n",
      "\n",
      "C:\\Users\\user\\PycharmProjects\\qwerty\\venv\\Lib\\site-packages\\sklearn\\metrics\\_regression.py:492: FutureWarning: 'squared' is deprecated in version 1.4 and will be removed in 1.6. To calculate the root mean squared error, use the function'root_mean_squared_error'.\n",
      "  warnings.warn(\n",
      "\n",
      "C:\\Users\\user\\PycharmProjects\\qwerty\\venv\\Lib\\site-packages\\xgboost\\core.py:158: UserWarning: [01:16:56] WARNING: C:\\buildkite-agent\\builds\\buildkite-windows-cpu-autoscaling-group-i-06abd128ca6c1688d-1\\xgboost\\xgboost-ci-windows\\src\\c_api\\c_api.cc:1374: Saving model in the UBJSON format as default.  You can use file extension: `json`, `ubj` or `deprecated` to choose between formats.\n",
      "  warnings.warn(smsg, UserWarning)\n",
      "\n"
     ]
    },
    {
     "name": "stdout",
     "output_type": "stream",
     "text": [
      "Run ID: 5eaec91f24314c128eaeb392b8b669fb, RMSE: 3.0166445497488397                                                                                             \n",
      " 54%|███████████████████████████████████████████████▌                                        | 27/50 [01:22<01:14,  3.26s/trial, best loss: 2.9754679365078545]"
     ]
    },
    {
     "name": "stderr",
     "output_type": "stream",
     "text": [
      "C:\\Users\\user\\PycharmProjects\\qwerty\\venv\\Lib\\site-packages\\_distutils_hack\\__init__.py:18: UserWarning: Distutils was imported before Setuptools, but importing Setuptools also replaces the `distutils` module in `sys.modules`. This may lead to undesirable behaviors or errors. To avoid these issues, avoid using distutils directly, ensure that setuptools is installed in the traditional way (e.g. not an editable install), and/or make sure that setuptools is always imported before distutils.\n",
      "  warnings.warn(\n",
      "\n",
      "C:\\Users\\user\\PycharmProjects\\qwerty\\venv\\Lib\\site-packages\\_distutils_hack\\__init__.py:33: UserWarning: Setuptools is replacing distutils.\n",
      "  warnings.warn(\"Setuptools is replacing distutils.\")\n",
      "\n",
      "C:\\Users\\user\\PycharmProjects\\qwerty\\venv\\Lib\\site-packages\\sklearn\\metrics\\_regression.py:492: FutureWarning: 'squared' is deprecated in version 1.4 and will be removed in 1.6. To calculate the root mean squared error, use the function'root_mean_squared_error'.\n",
      "  warnings.warn(\n",
      "\n",
      "C:\\Users\\user\\PycharmProjects\\qwerty\\venv\\Lib\\site-packages\\xgboost\\core.py:158: UserWarning: [01:17:00] WARNING: C:\\buildkite-agent\\builds\\buildkite-windows-cpu-autoscaling-group-i-06abd128ca6c1688d-1\\xgboost\\xgboost-ci-windows\\src\\c_api\\c_api.cc:1374: Saving model in the UBJSON format as default.  You can use file extension: `json`, `ubj` or `deprecated` to choose between formats.\n",
      "  warnings.warn(smsg, UserWarning)\n",
      "\n"
     ]
    },
    {
     "name": "stdout",
     "output_type": "stream",
     "text": [
      "Run ID: 2146c1c672354f6187ae6f6c8de95410, RMSE: 3.010504499179992                                                                                              \n",
      " 56%|█████████████████████████████████████████████████▎                                      | 28/50 [01:26<01:15,  3.41s/trial, best loss: 2.9754679365078545]"
     ]
    },
    {
     "name": "stderr",
     "output_type": "stream",
     "text": [
      "C:\\Users\\user\\PycharmProjects\\qwerty\\venv\\Lib\\site-packages\\_distutils_hack\\__init__.py:18: UserWarning: Distutils was imported before Setuptools, but importing Setuptools also replaces the `distutils` module in `sys.modules`. This may lead to undesirable behaviors or errors. To avoid these issues, avoid using distutils directly, ensure that setuptools is installed in the traditional way (e.g. not an editable install), and/or make sure that setuptools is always imported before distutils.\n",
      "  warnings.warn(\n",
      "\n",
      "C:\\Users\\user\\PycharmProjects\\qwerty\\venv\\Lib\\site-packages\\_distutils_hack\\__init__.py:33: UserWarning: Setuptools is replacing distutils.\n",
      "  warnings.warn(\"Setuptools is replacing distutils.\")\n",
      "\n",
      "C:\\Users\\user\\PycharmProjects\\qwerty\\venv\\Lib\\site-packages\\sklearn\\metrics\\_regression.py:492: FutureWarning: 'squared' is deprecated in version 1.4 and will be removed in 1.6. To calculate the root mean squared error, use the function'root_mean_squared_error'.\n",
      "  warnings.warn(\n",
      "\n",
      "C:\\Users\\user\\PycharmProjects\\qwerty\\venv\\Lib\\site-packages\\xgboost\\core.py:158: UserWarning: [01:17:03] WARNING: C:\\buildkite-agent\\builds\\buildkite-windows-cpu-autoscaling-group-i-06abd128ca6c1688d-1\\xgboost\\xgboost-ci-windows\\src\\c_api\\c_api.cc:1374: Saving model in the UBJSON format as default.  You can use file extension: `json`, `ubj` or `deprecated` to choose between formats.\n",
      "  warnings.warn(smsg, UserWarning)\n",
      "\n"
     ]
    },
    {
     "name": "stdout",
     "output_type": "stream",
     "text": [
      "Run ID: be8a0f8e25034664b9158d14212219fe, RMSE: 3.0135704453544263                                                                                             \n",
      " 58%|███████████████████████████████████████████████████                                     | 29/50 [01:28<01:05,  3.13s/trial, best loss: 2.9754679365078545]"
     ]
    },
    {
     "name": "stderr",
     "output_type": "stream",
     "text": [
      "C:\\Users\\user\\PycharmProjects\\qwerty\\venv\\Lib\\site-packages\\_distutils_hack\\__init__.py:18: UserWarning: Distutils was imported before Setuptools, but importing Setuptools also replaces the `distutils` module in `sys.modules`. This may lead to undesirable behaviors or errors. To avoid these issues, avoid using distutils directly, ensure that setuptools is installed in the traditional way (e.g. not an editable install), and/or make sure that setuptools is always imported before distutils.\n",
      "  warnings.warn(\n",
      "\n",
      "C:\\Users\\user\\PycharmProjects\\qwerty\\venv\\Lib\\site-packages\\_distutils_hack\\__init__.py:33: UserWarning: Setuptools is replacing distutils.\n",
      "  warnings.warn(\"Setuptools is replacing distutils.\")\n",
      "\n",
      "C:\\Users\\user\\PycharmProjects\\qwerty\\venv\\Lib\\site-packages\\sklearn\\metrics\\_regression.py:492: FutureWarning: 'squared' is deprecated in version 1.4 and will be removed in 1.6. To calculate the root mean squared error, use the function'root_mean_squared_error'.\n",
      "  warnings.warn(\n",
      "\n",
      "C:\\Users\\user\\PycharmProjects\\qwerty\\venv\\Lib\\site-packages\\xgboost\\core.py:158: UserWarning: [01:17:06] WARNING: C:\\buildkite-agent\\builds\\buildkite-windows-cpu-autoscaling-group-i-06abd128ca6c1688d-1\\xgboost\\xgboost-ci-windows\\src\\c_api\\c_api.cc:1374: Saving model in the UBJSON format as default.  You can use file extension: `json`, `ubj` or `deprecated` to choose between formats.\n",
      "  warnings.warn(smsg, UserWarning)\n",
      "\n"
     ]
    },
    {
     "name": "stdout",
     "output_type": "stream",
     "text": [
      "Run ID: 6b7c1ec176864b3b90ef04788f9d35f0, RMSE: 2.992418651174891                                                                                              \n",
      " 60%|████████████████████████████████████████████████████▊                                   | 30/50 [01:32<01:05,  3.27s/trial, best loss: 2.9754679365078545]"
     ]
    },
    {
     "name": "stderr",
     "output_type": "stream",
     "text": [
      "C:\\Users\\user\\PycharmProjects\\qwerty\\venv\\Lib\\site-packages\\_distutils_hack\\__init__.py:18: UserWarning: Distutils was imported before Setuptools, but importing Setuptools also replaces the `distutils` module in `sys.modules`. This may lead to undesirable behaviors or errors. To avoid these issues, avoid using distutils directly, ensure that setuptools is installed in the traditional way (e.g. not an editable install), and/or make sure that setuptools is always imported before distutils.\n",
      "  warnings.warn(\n",
      "\n",
      "C:\\Users\\user\\PycharmProjects\\qwerty\\venv\\Lib\\site-packages\\_distutils_hack\\__init__.py:33: UserWarning: Setuptools is replacing distutils.\n",
      "  warnings.warn(\"Setuptools is replacing distutils.\")\n",
      "\n",
      "C:\\Users\\user\\PycharmProjects\\qwerty\\venv\\Lib\\site-packages\\sklearn\\metrics\\_regression.py:492: FutureWarning: 'squared' is deprecated in version 1.4 and will be removed in 1.6. To calculate the root mean squared error, use the function'root_mean_squared_error'.\n",
      "  warnings.warn(\n",
      "\n",
      "C:\\Users\\user\\PycharmProjects\\qwerty\\venv\\Lib\\site-packages\\xgboost\\core.py:158: UserWarning: [01:17:09] WARNING: C:\\buildkite-agent\\builds\\buildkite-windows-cpu-autoscaling-group-i-06abd128ca6c1688d-1\\xgboost\\xgboost-ci-windows\\src\\c_api\\c_api.cc:1374: Saving model in the UBJSON format as default.  You can use file extension: `json`, `ubj` or `deprecated` to choose between formats.\n",
      "  warnings.warn(smsg, UserWarning)\n",
      "\n"
     ]
    },
    {
     "name": "stdout",
     "output_type": "stream",
     "text": [
      "Run ID: c2e9a3f89fb54af7b62f28c56e8b20fa, RMSE: 3.7684438877237967                                                                                             \n",
      " 62%|██████████████████████████████████████████████████████▌                                 | 31/50 [01:34<00:58,  3.07s/trial, best loss: 2.9754679365078545]"
     ]
    },
    {
     "name": "stderr",
     "output_type": "stream",
     "text": [
      "C:\\Users\\user\\PycharmProjects\\qwerty\\venv\\Lib\\site-packages\\_distutils_hack\\__init__.py:18: UserWarning: Distutils was imported before Setuptools, but importing Setuptools also replaces the `distutils` module in `sys.modules`. This may lead to undesirable behaviors or errors. To avoid these issues, avoid using distutils directly, ensure that setuptools is installed in the traditional way (e.g. not an editable install), and/or make sure that setuptools is always imported before distutils.\n",
      "  warnings.warn(\n",
      "\n",
      "C:\\Users\\user\\PycharmProjects\\qwerty\\venv\\Lib\\site-packages\\_distutils_hack\\__init__.py:33: UserWarning: Setuptools is replacing distutils.\n",
      "  warnings.warn(\"Setuptools is replacing distutils.\")\n",
      "\n",
      "C:\\Users\\user\\PycharmProjects\\qwerty\\venv\\Lib\\site-packages\\sklearn\\metrics\\_regression.py:492: FutureWarning: 'squared' is deprecated in version 1.4 and will be removed in 1.6. To calculate the root mean squared error, use the function'root_mean_squared_error'.\n",
      "  warnings.warn(\n",
      "\n",
      "C:\\Users\\user\\PycharmProjects\\qwerty\\venv\\Lib\\site-packages\\xgboost\\core.py:158: UserWarning: [01:17:12] WARNING: C:\\buildkite-agent\\builds\\buildkite-windows-cpu-autoscaling-group-i-06abd128ca6c1688d-1\\xgboost\\xgboost-ci-windows\\src\\c_api\\c_api.cc:1374: Saving model in the UBJSON format as default.  You can use file extension: `json`, `ubj` or `deprecated` to choose between formats.\n",
      "  warnings.warn(smsg, UserWarning)\n",
      "\n"
     ]
    },
    {
     "name": "stdout",
     "output_type": "stream",
     "text": [
      "Run ID: e10970b332ac4fc1ba50d2dd98a182b7, RMSE: 3.0655164689141516                                                                                             \n",
      " 64%|████████████████████████████████████████████████████████▎                               | 32/50 [01:37<00:54,  3.00s/trial, best loss: 2.9754679365078545]"
     ]
    },
    {
     "name": "stderr",
     "output_type": "stream",
     "text": [
      "C:\\Users\\user\\PycharmProjects\\qwerty\\venv\\Lib\\site-packages\\_distutils_hack\\__init__.py:18: UserWarning: Distutils was imported before Setuptools, but importing Setuptools also replaces the `distutils` module in `sys.modules`. This may lead to undesirable behaviors or errors. To avoid these issues, avoid using distutils directly, ensure that setuptools is installed in the traditional way (e.g. not an editable install), and/or make sure that setuptools is always imported before distutils.\n",
      "  warnings.warn(\n",
      "\n",
      "C:\\Users\\user\\PycharmProjects\\qwerty\\venv\\Lib\\site-packages\\_distutils_hack\\__init__.py:33: UserWarning: Setuptools is replacing distutils.\n",
      "  warnings.warn(\"Setuptools is replacing distutils.\")\n",
      "\n",
      "C:\\Users\\user\\PycharmProjects\\qwerty\\venv\\Lib\\site-packages\\sklearn\\metrics\\_regression.py:492: FutureWarning: 'squared' is deprecated in version 1.4 and will be removed in 1.6. To calculate the root mean squared error, use the function'root_mean_squared_error'.\n",
      "  warnings.warn(\n",
      "\n",
      "C:\\Users\\user\\PycharmProjects\\qwerty\\venv\\Lib\\site-packages\\xgboost\\core.py:158: UserWarning: [01:17:15] WARNING: C:\\buildkite-agent\\builds\\buildkite-windows-cpu-autoscaling-group-i-06abd128ca6c1688d-1\\xgboost\\xgboost-ci-windows\\src\\c_api\\c_api.cc:1374: Saving model in the UBJSON format as default.  You can use file extension: `json`, `ubj` or `deprecated` to choose between formats.\n",
      "  warnings.warn(smsg, UserWarning)\n",
      "\n"
     ]
    },
    {
     "name": "stdout",
     "output_type": "stream",
     "text": [
      "Run ID: f9af7e70d1cf488cb1b01fcacd227156, RMSE: 2.9933067623014313                                                                                             \n",
      " 66%|██████████████████████████████████████████████████████████                              | 33/50 [01:41<00:52,  3.11s/trial, best loss: 2.9754679365078545]"
     ]
    },
    {
     "name": "stderr",
     "output_type": "stream",
     "text": [
      "C:\\Users\\user\\PycharmProjects\\qwerty\\venv\\Lib\\site-packages\\_distutils_hack\\__init__.py:18: UserWarning: Distutils was imported before Setuptools, but importing Setuptools also replaces the `distutils` module in `sys.modules`. This may lead to undesirable behaviors or errors. To avoid these issues, avoid using distutils directly, ensure that setuptools is installed in the traditional way (e.g. not an editable install), and/or make sure that setuptools is always imported before distutils.\n",
      "  warnings.warn(\n",
      "\n",
      "C:\\Users\\user\\PycharmProjects\\qwerty\\venv\\Lib\\site-packages\\_distutils_hack\\__init__.py:33: UserWarning: Setuptools is replacing distutils.\n",
      "  warnings.warn(\"Setuptools is replacing distutils.\")\n",
      "\n",
      "C:\\Users\\user\\PycharmProjects\\qwerty\\venv\\Lib\\site-packages\\sklearn\\metrics\\_regression.py:492: FutureWarning: 'squared' is deprecated in version 1.4 and will be removed in 1.6. To calculate the root mean squared error, use the function'root_mean_squared_error'.\n",
      "  warnings.warn(\n",
      "\n",
      "C:\\Users\\user\\PycharmProjects\\qwerty\\venv\\Lib\\site-packages\\xgboost\\core.py:158: UserWarning: [01:17:18] WARNING: C:\\buildkite-agent\\builds\\buildkite-windows-cpu-autoscaling-group-i-06abd128ca6c1688d-1\\xgboost\\xgboost-ci-windows\\src\\c_api\\c_api.cc:1374: Saving model in the UBJSON format as default.  You can use file extension: `json`, `ubj` or `deprecated` to choose between formats.\n",
      "  warnings.warn(smsg, UserWarning)\n",
      "\n"
     ]
    },
    {
     "name": "stdout",
     "output_type": "stream",
     "text": [
      "Run ID: 6116cde95a204b97afd2c68c159b6f7f, RMSE: 3.4395234143691633                                                                                             \n",
      " 68%|███████████████████████████████████████████████████████████▊                            | 34/50 [01:44<00:49,  3.08s/trial, best loss: 2.9754679365078545]"
     ]
    },
    {
     "name": "stderr",
     "output_type": "stream",
     "text": [
      "C:\\Users\\user\\PycharmProjects\\qwerty\\venv\\Lib\\site-packages\\_distutils_hack\\__init__.py:18: UserWarning: Distutils was imported before Setuptools, but importing Setuptools also replaces the `distutils` module in `sys.modules`. This may lead to undesirable behaviors or errors. To avoid these issues, avoid using distutils directly, ensure that setuptools is installed in the traditional way (e.g. not an editable install), and/or make sure that setuptools is always imported before distutils.\n",
      "  warnings.warn(\n",
      "\n",
      "C:\\Users\\user\\PycharmProjects\\qwerty\\venv\\Lib\\site-packages\\_distutils_hack\\__init__.py:33: UserWarning: Setuptools is replacing distutils.\n",
      "  warnings.warn(\"Setuptools is replacing distutils.\")\n",
      "\n",
      "C:\\Users\\user\\PycharmProjects\\qwerty\\venv\\Lib\\site-packages\\sklearn\\metrics\\_regression.py:492: FutureWarning: 'squared' is deprecated in version 1.4 and will be removed in 1.6. To calculate the root mean squared error, use the function'root_mean_squared_error'.\n",
      "  warnings.warn(\n",
      "\n",
      "C:\\Users\\user\\PycharmProjects\\qwerty\\venv\\Lib\\site-packages\\xgboost\\core.py:158: UserWarning: [01:17:21] WARNING: C:\\buildkite-agent\\builds\\buildkite-windows-cpu-autoscaling-group-i-06abd128ca6c1688d-1\\xgboost\\xgboost-ci-windows\\src\\c_api\\c_api.cc:1374: Saving model in the UBJSON format as default.  You can use file extension: `json`, `ubj` or `deprecated` to choose between formats.\n",
      "  warnings.warn(smsg, UserWarning)\n",
      "\n"
     ]
    },
    {
     "name": "stdout",
     "output_type": "stream",
     "text": [
      "Run ID: 428efe5421a94c7d8dc1c8624af709cc, RMSE: 2.987181962787642                                                                                              \n",
      " 70%|█████████████████████████████████████████████████████████████▌                          | 35/50 [01:47<00:46,  3.13s/trial, best loss: 2.9754679365078545]"
     ]
    },
    {
     "name": "stderr",
     "output_type": "stream",
     "text": [
      "C:\\Users\\user\\PycharmProjects\\qwerty\\venv\\Lib\\site-packages\\_distutils_hack\\__init__.py:18: UserWarning: Distutils was imported before Setuptools, but importing Setuptools also replaces the `distutils` module in `sys.modules`. This may lead to undesirable behaviors or errors. To avoid these issues, avoid using distutils directly, ensure that setuptools is installed in the traditional way (e.g. not an editable install), and/or make sure that setuptools is always imported before distutils.\n",
      "  warnings.warn(\n",
      "\n",
      "C:\\Users\\user\\PycharmProjects\\qwerty\\venv\\Lib\\site-packages\\_distutils_hack\\__init__.py:33: UserWarning: Setuptools is replacing distutils.\n",
      "  warnings.warn(\"Setuptools is replacing distutils.\")\n",
      "\n",
      "C:\\Users\\user\\PycharmProjects\\qwerty\\venv\\Lib\\site-packages\\sklearn\\metrics\\_regression.py:492: FutureWarning: 'squared' is deprecated in version 1.4 and will be removed in 1.6. To calculate the root mean squared error, use the function'root_mean_squared_error'.\n",
      "  warnings.warn(\n",
      "\n",
      "C:\\Users\\user\\PycharmProjects\\qwerty\\venv\\Lib\\site-packages\\xgboost\\core.py:158: UserWarning: [01:17:24] WARNING: C:\\buildkite-agent\\builds\\buildkite-windows-cpu-autoscaling-group-i-06abd128ca6c1688d-1\\xgboost\\xgboost-ci-windows\\src\\c_api\\c_api.cc:1374: Saving model in the UBJSON format as default.  You can use file extension: `json`, `ubj` or `deprecated` to choose between formats.\n",
      "  warnings.warn(smsg, UserWarning)\n",
      "\n"
     ]
    },
    {
     "name": "stdout",
     "output_type": "stream",
     "text": [
      "Run ID: c89dd5d7af274ad2b19add7b6aa68834, RMSE: 3.028147423425457                                                                                              \n",
      " 72%|███████████████████████████████████████████████████████████████▎                        | 36/50 [01:50<00:42,  3.01s/trial, best loss: 2.9754679365078545]"
     ]
    },
    {
     "name": "stderr",
     "output_type": "stream",
     "text": [
      "C:\\Users\\user\\PycharmProjects\\qwerty\\venv\\Lib\\site-packages\\_distutils_hack\\__init__.py:18: UserWarning: Distutils was imported before Setuptools, but importing Setuptools also replaces the `distutils` module in `sys.modules`. This may lead to undesirable behaviors or errors. To avoid these issues, avoid using distutils directly, ensure that setuptools is installed in the traditional way (e.g. not an editable install), and/or make sure that setuptools is always imported before distutils.\n",
      "  warnings.warn(\n",
      "\n",
      "C:\\Users\\user\\PycharmProjects\\qwerty\\venv\\Lib\\site-packages\\_distutils_hack\\__init__.py:33: UserWarning: Setuptools is replacing distutils.\n",
      "  warnings.warn(\"Setuptools is replacing distutils.\")\n",
      "\n",
      "C:\\Users\\user\\PycharmProjects\\qwerty\\venv\\Lib\\site-packages\\sklearn\\metrics\\_regression.py:492: FutureWarning: 'squared' is deprecated in version 1.4 and will be removed in 1.6. To calculate the root mean squared error, use the function'root_mean_squared_error'.\n",
      "  warnings.warn(\n",
      "\n",
      "C:\\Users\\user\\PycharmProjects\\qwerty\\venv\\Lib\\site-packages\\xgboost\\core.py:158: UserWarning: [01:17:27] WARNING: C:\\buildkite-agent\\builds\\buildkite-windows-cpu-autoscaling-group-i-06abd128ca6c1688d-1\\xgboost\\xgboost-ci-windows\\src\\c_api\\c_api.cc:1374: Saving model in the UBJSON format as default.  You can use file extension: `json`, `ubj` or `deprecated` to choose between formats.\n",
      "  warnings.warn(smsg, UserWarning)\n",
      "\n"
     ]
    },
    {
     "name": "stdout",
     "output_type": "stream",
     "text": [
      "Run ID: 28c3d692d6e0430ea18c19f709a911d6, RMSE: 3.25623083776254                                                                                               \n",
      " 74%|█████████████████████████████████████████████████████████████████                       | 37/50 [01:52<00:38,  2.96s/trial, best loss: 2.9754679365078545]"
     ]
    },
    {
     "name": "stderr",
     "output_type": "stream",
     "text": [
      "C:\\Users\\user\\PycharmProjects\\qwerty\\venv\\Lib\\site-packages\\_distutils_hack\\__init__.py:18: UserWarning: Distutils was imported before Setuptools, but importing Setuptools also replaces the `distutils` module in `sys.modules`. This may lead to undesirable behaviors or errors. To avoid these issues, avoid using distutils directly, ensure that setuptools is installed in the traditional way (e.g. not an editable install), and/or make sure that setuptools is always imported before distutils.\n",
      "  warnings.warn(\n",
      "\n",
      "C:\\Users\\user\\PycharmProjects\\qwerty\\venv\\Lib\\site-packages\\_distutils_hack\\__init__.py:33: UserWarning: Setuptools is replacing distutils.\n",
      "  warnings.warn(\"Setuptools is replacing distutils.\")\n",
      "\n",
      "C:\\Users\\user\\PycharmProjects\\qwerty\\venv\\Lib\\site-packages\\sklearn\\metrics\\_regression.py:492: FutureWarning: 'squared' is deprecated in version 1.4 and will be removed in 1.6. To calculate the root mean squared error, use the function'root_mean_squared_error'.\n",
      "  warnings.warn(\n",
      "\n",
      "C:\\Users\\user\\PycharmProjects\\qwerty\\venv\\Lib\\site-packages\\xgboost\\core.py:158: UserWarning: [01:17:30] WARNING: C:\\buildkite-agent\\builds\\buildkite-windows-cpu-autoscaling-group-i-06abd128ca6c1688d-1\\xgboost\\xgboost-ci-windows\\src\\c_api\\c_api.cc:1374: Saving model in the UBJSON format as default.  You can use file extension: `json`, `ubj` or `deprecated` to choose between formats.\n",
      "  warnings.warn(smsg, UserWarning)\n",
      "\n"
     ]
    },
    {
     "name": "stdout",
     "output_type": "stream",
     "text": [
      "Run ID: 0442684afe664b3c9e2f25a43f74ebab, RMSE: 2.9875230983872574                                                                                             \n",
      " 76%|██████████████████████████████████████████████████████████████████▉                     | 38/50 [01:56<00:37,  3.16s/trial, best loss: 2.9754679365078545]"
     ]
    },
    {
     "name": "stderr",
     "output_type": "stream",
     "text": [
      "C:\\Users\\user\\PycharmProjects\\qwerty\\venv\\Lib\\site-packages\\_distutils_hack\\__init__.py:18: UserWarning: Distutils was imported before Setuptools, but importing Setuptools also replaces the `distutils` module in `sys.modules`. This may lead to undesirable behaviors or errors. To avoid these issues, avoid using distutils directly, ensure that setuptools is installed in the traditional way (e.g. not an editable install), and/or make sure that setuptools is always imported before distutils.\n",
      "  warnings.warn(\n",
      "\n",
      "C:\\Users\\user\\PycharmProjects\\qwerty\\venv\\Lib\\site-packages\\_distutils_hack\\__init__.py:33: UserWarning: Setuptools is replacing distutils.\n",
      "  warnings.warn(\"Setuptools is replacing distutils.\")\n",
      "\n",
      "C:\\Users\\user\\PycharmProjects\\qwerty\\venv\\Lib\\site-packages\\sklearn\\metrics\\_regression.py:492: FutureWarning: 'squared' is deprecated in version 1.4 and will be removed in 1.6. To calculate the root mean squared error, use the function'root_mean_squared_error'.\n",
      "  warnings.warn(\n",
      "\n",
      "C:\\Users\\user\\PycharmProjects\\qwerty\\venv\\Lib\\site-packages\\xgboost\\core.py:158: UserWarning: [01:17:34] WARNING: C:\\buildkite-agent\\builds\\buildkite-windows-cpu-autoscaling-group-i-06abd128ca6c1688d-1\\xgboost\\xgboost-ci-windows\\src\\c_api\\c_api.cc:1374: Saving model in the UBJSON format as default.  You can use file extension: `json`, `ubj` or `deprecated` to choose between formats.\n",
      "  warnings.warn(smsg, UserWarning)\n",
      "\n"
     ]
    },
    {
     "name": "stdout",
     "output_type": "stream",
     "text": [
      "Run ID: df5325ca753b468d99ec4443def49044, RMSE: 2.9992501443896824                                                                                             \n",
      " 78%|████████████████████████████████████████████████████████████████████▋                   | 39/50 [01:59<00:35,  3.19s/trial, best loss: 2.9754679365078545]"
     ]
    },
    {
     "name": "stderr",
     "output_type": "stream",
     "text": [
      "C:\\Users\\user\\PycharmProjects\\qwerty\\venv\\Lib\\site-packages\\_distutils_hack\\__init__.py:18: UserWarning: Distutils was imported before Setuptools, but importing Setuptools also replaces the `distutils` module in `sys.modules`. This may lead to undesirable behaviors or errors. To avoid these issues, avoid using distutils directly, ensure that setuptools is installed in the traditional way (e.g. not an editable install), and/or make sure that setuptools is always imported before distutils.\n",
      "  warnings.warn(\n",
      "\n",
      "C:\\Users\\user\\PycharmProjects\\qwerty\\venv\\Lib\\site-packages\\_distutils_hack\\__init__.py:33: UserWarning: Setuptools is replacing distutils.\n",
      "  warnings.warn(\"Setuptools is replacing distutils.\")\n",
      "\n",
      "C:\\Users\\user\\PycharmProjects\\qwerty\\venv\\Lib\\site-packages\\sklearn\\metrics\\_regression.py:492: FutureWarning: 'squared' is deprecated in version 1.4 and will be removed in 1.6. To calculate the root mean squared error, use the function'root_mean_squared_error'.\n",
      "  warnings.warn(\n",
      "\n",
      "C:\\Users\\user\\PycharmProjects\\qwerty\\venv\\Lib\\site-packages\\xgboost\\core.py:158: UserWarning: [01:17:36] WARNING: C:\\buildkite-agent\\builds\\buildkite-windows-cpu-autoscaling-group-i-06abd128ca6c1688d-1\\xgboost\\xgboost-ci-windows\\src\\c_api\\c_api.cc:1374: Saving model in the UBJSON format as default.  You can use file extension: `json`, `ubj` or `deprecated` to choose between formats.\n",
      "  warnings.warn(smsg, UserWarning)\n",
      "\n"
     ]
    },
    {
     "name": "stdout",
     "output_type": "stream",
     "text": [
      "Run ID: 39371c97d2f844fb8334040fe1d4ccb9, RMSE: 3.277196016766832                                                                                              \n",
      " 80%|██████████████████████████████████████████████████████████████████████▍                 | 40/50 [02:02<00:29,  2.99s/trial, best loss: 2.9754679365078545]"
     ]
    },
    {
     "name": "stderr",
     "output_type": "stream",
     "text": [
      "C:\\Users\\user\\PycharmProjects\\qwerty\\venv\\Lib\\site-packages\\_distutils_hack\\__init__.py:18: UserWarning: Distutils was imported before Setuptools, but importing Setuptools also replaces the `distutils` module in `sys.modules`. This may lead to undesirable behaviors or errors. To avoid these issues, avoid using distutils directly, ensure that setuptools is installed in the traditional way (e.g. not an editable install), and/or make sure that setuptools is always imported before distutils.\n",
      "  warnings.warn(\n",
      "\n",
      "C:\\Users\\user\\PycharmProjects\\qwerty\\venv\\Lib\\site-packages\\_distutils_hack\\__init__.py:33: UserWarning: Setuptools is replacing distutils.\n",
      "  warnings.warn(\"Setuptools is replacing distutils.\")\n",
      "\n",
      "C:\\Users\\user\\PycharmProjects\\qwerty\\venv\\Lib\\site-packages\\sklearn\\metrics\\_regression.py:492: FutureWarning: 'squared' is deprecated in version 1.4 and will be removed in 1.6. To calculate the root mean squared error, use the function'root_mean_squared_error'.\n",
      "  warnings.warn(\n",
      "\n",
      "C:\\Users\\user\\PycharmProjects\\qwerty\\venv\\Lib\\site-packages\\xgboost\\core.py:158: UserWarning: [01:17:39] WARNING: C:\\buildkite-agent\\builds\\buildkite-windows-cpu-autoscaling-group-i-06abd128ca6c1688d-1\\xgboost\\xgboost-ci-windows\\src\\c_api\\c_api.cc:1374: Saving model in the UBJSON format as default.  You can use file extension: `json`, `ubj` or `deprecated` to choose between formats.\n",
      "  warnings.warn(smsg, UserWarning)\n",
      "\n"
     ]
    },
    {
     "name": "stdout",
     "output_type": "stream",
     "text": [
      "Run ID: 7697b74d3fe84847b5823895d57e7c5f, RMSE: 3.005297152585824                                                                                              \n",
      " 82%|████████████████████████████████████████████████████████████████████████▏               | 41/50 [02:05<00:26,  2.99s/trial, best loss: 2.9754679365078545]"
     ]
    },
    {
     "name": "stderr",
     "output_type": "stream",
     "text": [
      "C:\\Users\\user\\PycharmProjects\\qwerty\\venv\\Lib\\site-packages\\_distutils_hack\\__init__.py:18: UserWarning: Distutils was imported before Setuptools, but importing Setuptools also replaces the `distutils` module in `sys.modules`. This may lead to undesirable behaviors or errors. To avoid these issues, avoid using distutils directly, ensure that setuptools is installed in the traditional way (e.g. not an editable install), and/or make sure that setuptools is always imported before distutils.\n",
      "  warnings.warn(\n",
      "\n",
      "C:\\Users\\user\\PycharmProjects\\qwerty\\venv\\Lib\\site-packages\\_distutils_hack\\__init__.py:33: UserWarning: Setuptools is replacing distutils.\n",
      "  warnings.warn(\"Setuptools is replacing distutils.\")\n",
      "\n",
      "C:\\Users\\user\\PycharmProjects\\qwerty\\venv\\Lib\\site-packages\\sklearn\\metrics\\_regression.py:492: FutureWarning: 'squared' is deprecated in version 1.4 and will be removed in 1.6. To calculate the root mean squared error, use the function'root_mean_squared_error'.\n",
      "  warnings.warn(\n",
      "\n",
      "C:\\Users\\user\\PycharmProjects\\qwerty\\venv\\Lib\\site-packages\\xgboost\\core.py:158: UserWarning: [01:17:43] WARNING: C:\\buildkite-agent\\builds\\buildkite-windows-cpu-autoscaling-group-i-06abd128ca6c1688d-1\\xgboost\\xgboost-ci-windows\\src\\c_api\\c_api.cc:1374: Saving model in the UBJSON format as default.  You can use file extension: `json`, `ubj` or `deprecated` to choose between formats.\n",
      "  warnings.warn(smsg, UserWarning)\n",
      "\n"
     ]
    },
    {
     "name": "stdout",
     "output_type": "stream",
     "text": [
      "Run ID: 8e0cfe8db0bb44bbb52b410a5d3821ff, RMSE: 3.0065371971354335                                                                                             \n",
      " 84%|█████████████████████████████████████████████████████████████████████████▉              | 42/50 [02:09<00:25,  3.24s/trial, best loss: 2.9754679365078545]"
     ]
    },
    {
     "name": "stderr",
     "output_type": "stream",
     "text": [
      "C:\\Users\\user\\PycharmProjects\\qwerty\\venv\\Lib\\site-packages\\_distutils_hack\\__init__.py:18: UserWarning: Distutils was imported before Setuptools, but importing Setuptools also replaces the `distutils` module in `sys.modules`. This may lead to undesirable behaviors or errors. To avoid these issues, avoid using distutils directly, ensure that setuptools is installed in the traditional way (e.g. not an editable install), and/or make sure that setuptools is always imported before distutils.\n",
      "  warnings.warn(\n",
      "\n",
      "C:\\Users\\user\\PycharmProjects\\qwerty\\venv\\Lib\\site-packages\\_distutils_hack\\__init__.py:33: UserWarning: Setuptools is replacing distutils.\n",
      "  warnings.warn(\"Setuptools is replacing distutils.\")\n",
      "\n",
      "C:\\Users\\user\\PycharmProjects\\qwerty\\venv\\Lib\\site-packages\\sklearn\\metrics\\_regression.py:492: FutureWarning: 'squared' is deprecated in version 1.4 and will be removed in 1.6. To calculate the root mean squared error, use the function'root_mean_squared_error'.\n",
      "  warnings.warn(\n",
      "\n",
      "C:\\Users\\user\\PycharmProjects\\qwerty\\venv\\Lib\\site-packages\\xgboost\\core.py:158: UserWarning: [01:17:46] WARNING: C:\\buildkite-agent\\builds\\buildkite-windows-cpu-autoscaling-group-i-06abd128ca6c1688d-1\\xgboost\\xgboost-ci-windows\\src\\c_api\\c_api.cc:1374: Saving model in the UBJSON format as default.  You can use file extension: `json`, `ubj` or `deprecated` to choose between formats.\n",
      "  warnings.warn(smsg, UserWarning)\n",
      "\n"
     ]
    },
    {
     "name": "stdout",
     "output_type": "stream",
     "text": [
      "Run ID: c1674f4dc9f44ed58e58255f1bf2b49f, RMSE: 3.032297771060551                                                                                              \n",
      " 86%|███████████████████████████████████████████████████████████████████████████▋            | 43/50 [02:12<00:22,  3.18s/trial, best loss: 2.9754679365078545]"
     ]
    },
    {
     "name": "stderr",
     "output_type": "stream",
     "text": [
      "C:\\Users\\user\\PycharmProjects\\qwerty\\venv\\Lib\\site-packages\\_distutils_hack\\__init__.py:18: UserWarning: Distutils was imported before Setuptools, but importing Setuptools also replaces the `distutils` module in `sys.modules`. This may lead to undesirable behaviors or errors. To avoid these issues, avoid using distutils directly, ensure that setuptools is installed in the traditional way (e.g. not an editable install), and/or make sure that setuptools is always imported before distutils.\n",
      "  warnings.warn(\n",
      "\n",
      "C:\\Users\\user\\PycharmProjects\\qwerty\\venv\\Lib\\site-packages\\_distutils_hack\\__init__.py:33: UserWarning: Setuptools is replacing distutils.\n",
      "  warnings.warn(\"Setuptools is replacing distutils.\")\n",
      "\n",
      "C:\\Users\\user\\PycharmProjects\\qwerty\\venv\\Lib\\site-packages\\sklearn\\metrics\\_regression.py:492: FutureWarning: 'squared' is deprecated in version 1.4 and will be removed in 1.6. To calculate the root mean squared error, use the function'root_mean_squared_error'.\n",
      "  warnings.warn(\n",
      "\n",
      "C:\\Users\\user\\PycharmProjects\\qwerty\\venv\\Lib\\site-packages\\xgboost\\core.py:158: UserWarning: [01:17:49] WARNING: C:\\buildkite-agent\\builds\\buildkite-windows-cpu-autoscaling-group-i-06abd128ca6c1688d-1\\xgboost\\xgboost-ci-windows\\src\\c_api\\c_api.cc:1374: Saving model in the UBJSON format as default.  You can use file extension: `json`, `ubj` or `deprecated` to choose between formats.\n",
      "  warnings.warn(smsg, UserWarning)\n",
      "\n"
     ]
    },
    {
     "name": "stdout",
     "output_type": "stream",
     "text": [
      "Run ID: 2379f7698711481ab8c3fb4955394708, RMSE: 3.3811975978429474                                                                                             \n",
      " 88%|█████████████████████████████████████████████████████████████████████████████▍          | 44/50 [02:15<00:19,  3.22s/trial, best loss: 2.9754679365078545]"
     ]
    },
    {
     "name": "stderr",
     "output_type": "stream",
     "text": [
      "C:\\Users\\user\\PycharmProjects\\qwerty\\venv\\Lib\\site-packages\\_distutils_hack\\__init__.py:18: UserWarning: Distutils was imported before Setuptools, but importing Setuptools also replaces the `distutils` module in `sys.modules`. This may lead to undesirable behaviors or errors. To avoid these issues, avoid using distutils directly, ensure that setuptools is installed in the traditional way (e.g. not an editable install), and/or make sure that setuptools is always imported before distutils.\n",
      "  warnings.warn(\n",
      "\n",
      "C:\\Users\\user\\PycharmProjects\\qwerty\\venv\\Lib\\site-packages\\_distutils_hack\\__init__.py:33: UserWarning: Setuptools is replacing distutils.\n",
      "  warnings.warn(\"Setuptools is replacing distutils.\")\n",
      "\n",
      "C:\\Users\\user\\PycharmProjects\\qwerty\\venv\\Lib\\site-packages\\sklearn\\metrics\\_regression.py:492: FutureWarning: 'squared' is deprecated in version 1.4 and will be removed in 1.6. To calculate the root mean squared error, use the function'root_mean_squared_error'.\n",
      "  warnings.warn(\n",
      "\n",
      "C:\\Users\\user\\PycharmProjects\\qwerty\\venv\\Lib\\site-packages\\xgboost\\core.py:158: UserWarning: [01:17:53] WARNING: C:\\buildkite-agent\\builds\\buildkite-windows-cpu-autoscaling-group-i-06abd128ca6c1688d-1\\xgboost\\xgboost-ci-windows\\src\\c_api\\c_api.cc:1374: Saving model in the UBJSON format as default.  You can use file extension: `json`, `ubj` or `deprecated` to choose between formats.\n",
      "  warnings.warn(smsg, UserWarning)\n",
      "\n"
     ]
    },
    {
     "name": "stdout",
     "output_type": "stream",
     "text": [
      "Run ID: 6e8ae133769e4d11ae8c9e582fd80ab5, RMSE: 3.0575644569719236                                                                                             \n",
      " 90%|███████████████████████████████████████████████████████████████████████████████▏        | 45/50 [02:18<00:16,  3.22s/trial, best loss: 2.9754679365078545]"
     ]
    },
    {
     "name": "stderr",
     "output_type": "stream",
     "text": [
      "C:\\Users\\user\\PycharmProjects\\qwerty\\venv\\Lib\\site-packages\\_distutils_hack\\__init__.py:18: UserWarning: Distutils was imported before Setuptools, but importing Setuptools also replaces the `distutils` module in `sys.modules`. This may lead to undesirable behaviors or errors. To avoid these issues, avoid using distutils directly, ensure that setuptools is installed in the traditional way (e.g. not an editable install), and/or make sure that setuptools is always imported before distutils.\n",
      "  warnings.warn(\n",
      "\n",
      "C:\\Users\\user\\PycharmProjects\\qwerty\\venv\\Lib\\site-packages\\_distutils_hack\\__init__.py:33: UserWarning: Setuptools is replacing distutils.\n",
      "  warnings.warn(\"Setuptools is replacing distutils.\")\n",
      "\n",
      "C:\\Users\\user\\PycharmProjects\\qwerty\\venv\\Lib\\site-packages\\sklearn\\metrics\\_regression.py:492: FutureWarning: 'squared' is deprecated in version 1.4 and will be removed in 1.6. To calculate the root mean squared error, use the function'root_mean_squared_error'.\n",
      "  warnings.warn(\n",
      "\n",
      "C:\\Users\\user\\PycharmProjects\\qwerty\\venv\\Lib\\site-packages\\xgboost\\core.py:158: UserWarning: [01:17:56] WARNING: C:\\buildkite-agent\\builds\\buildkite-windows-cpu-autoscaling-group-i-06abd128ca6c1688d-1\\xgboost\\xgboost-ci-windows\\src\\c_api\\c_api.cc:1374: Saving model in the UBJSON format as default.  You can use file extension: `json`, `ubj` or `deprecated` to choose between formats.\n",
      "  warnings.warn(smsg, UserWarning)\n",
      "\n"
     ]
    },
    {
     "name": "stdout",
     "output_type": "stream",
     "text": [
      "Run ID: f5c5c5cc3fe64c00a3406b47423c1a1f, RMSE: 3.0167878076877908                                                                                             \n",
      " 92%|████████████████████████████████████████████████████████████████████████████████▉       | 46/50 [02:21<00:12,  3.17s/trial, best loss: 2.9754679365078545]"
     ]
    },
    {
     "name": "stderr",
     "output_type": "stream",
     "text": [
      "C:\\Users\\user\\PycharmProjects\\qwerty\\venv\\Lib\\site-packages\\_distutils_hack\\__init__.py:18: UserWarning: Distutils was imported before Setuptools, but importing Setuptools also replaces the `distutils` module in `sys.modules`. This may lead to undesirable behaviors or errors. To avoid these issues, avoid using distutils directly, ensure that setuptools is installed in the traditional way (e.g. not an editable install), and/or make sure that setuptools is always imported before distutils.\n",
      "  warnings.warn(\n",
      "\n",
      "C:\\Users\\user\\PycharmProjects\\qwerty\\venv\\Lib\\site-packages\\_distutils_hack\\__init__.py:33: UserWarning: Setuptools is replacing distutils.\n",
      "  warnings.warn(\"Setuptools is replacing distutils.\")\n",
      "\n",
      "C:\\Users\\user\\PycharmProjects\\qwerty\\venv\\Lib\\site-packages\\sklearn\\metrics\\_regression.py:492: FutureWarning: 'squared' is deprecated in version 1.4 and will be removed in 1.6. To calculate the root mean squared error, use the function'root_mean_squared_error'.\n",
      "  warnings.warn(\n",
      "\n",
      "C:\\Users\\user\\PycharmProjects\\qwerty\\venv\\Lib\\site-packages\\xgboost\\core.py:158: UserWarning: [01:17:58] WARNING: C:\\buildkite-agent\\builds\\buildkite-windows-cpu-autoscaling-group-i-06abd128ca6c1688d-1\\xgboost\\xgboost-ci-windows\\src\\c_api\\c_api.cc:1374: Saving model in the UBJSON format as default.  You can use file extension: `json`, `ubj` or `deprecated` to choose between formats.\n",
      "  warnings.warn(smsg, UserWarning)\n",
      "\n"
     ]
    },
    {
     "name": "stdout",
     "output_type": "stream",
     "text": [
      "Run ID: 101690934d1f4d17ab979cf9137ed7e9, RMSE: 3.0130361865028696                                                                                             \n",
      " 94%|██████████████████████████████████████████████████████████████████████████████████▋     | 47/50 [02:24<00:09,  3.03s/trial, best loss: 2.9754679365078545]"
     ]
    },
    {
     "name": "stderr",
     "output_type": "stream",
     "text": [
      "C:\\Users\\user\\PycharmProjects\\qwerty\\venv\\Lib\\site-packages\\_distutils_hack\\__init__.py:18: UserWarning: Distutils was imported before Setuptools, but importing Setuptools also replaces the `distutils` module in `sys.modules`. This may lead to undesirable behaviors or errors. To avoid these issues, avoid using distutils directly, ensure that setuptools is installed in the traditional way (e.g. not an editable install), and/or make sure that setuptools is always imported before distutils.\n",
      "  warnings.warn(\n",
      "\n",
      "C:\\Users\\user\\PycharmProjects\\qwerty\\venv\\Lib\\site-packages\\_distutils_hack\\__init__.py:33: UserWarning: Setuptools is replacing distutils.\n",
      "  warnings.warn(\"Setuptools is replacing distutils.\")\n",
      "\n",
      "C:\\Users\\user\\PycharmProjects\\qwerty\\venv\\Lib\\site-packages\\sklearn\\metrics\\_regression.py:492: FutureWarning: 'squared' is deprecated in version 1.4 and will be removed in 1.6. To calculate the root mean squared error, use the function'root_mean_squared_error'.\n",
      "  warnings.warn(\n",
      "\n",
      "C:\\Users\\user\\PycharmProjects\\qwerty\\venv\\Lib\\site-packages\\xgboost\\core.py:158: UserWarning: [01:18:02] WARNING: C:\\buildkite-agent\\builds\\buildkite-windows-cpu-autoscaling-group-i-06abd128ca6c1688d-1\\xgboost\\xgboost-ci-windows\\src\\c_api\\c_api.cc:1374: Saving model in the UBJSON format as default.  You can use file extension: `json`, `ubj` or `deprecated` to choose between formats.\n",
      "  warnings.warn(smsg, UserWarning)\n",
      "\n"
     ]
    },
    {
     "name": "stdout",
     "output_type": "stream",
     "text": [
      "Run ID: 376b588b186e489095698d5c6d2dfd2a, RMSE: 3.003389292754948                                                                                              \n",
      " 96%|████████████████████████████████████████████████████████████████████████████████████▍   | 48/50 [02:27<00:06,  3.19s/trial, best loss: 2.9754679365078545]"
     ]
    },
    {
     "name": "stderr",
     "output_type": "stream",
     "text": [
      "C:\\Users\\user\\PycharmProjects\\qwerty\\venv\\Lib\\site-packages\\_distutils_hack\\__init__.py:18: UserWarning: Distutils was imported before Setuptools, but importing Setuptools also replaces the `distutils` module in `sys.modules`. This may lead to undesirable behaviors or errors. To avoid these issues, avoid using distutils directly, ensure that setuptools is installed in the traditional way (e.g. not an editable install), and/or make sure that setuptools is always imported before distutils.\n",
      "  warnings.warn(\n",
      "\n",
      "C:\\Users\\user\\PycharmProjects\\qwerty\\venv\\Lib\\site-packages\\_distutils_hack\\__init__.py:33: UserWarning: Setuptools is replacing distutils.\n",
      "  warnings.warn(\"Setuptools is replacing distutils.\")\n",
      "\n",
      "C:\\Users\\user\\PycharmProjects\\qwerty\\venv\\Lib\\site-packages\\sklearn\\metrics\\_regression.py:492: FutureWarning: 'squared' is deprecated in version 1.4 and will be removed in 1.6. To calculate the root mean squared error, use the function'root_mean_squared_error'.\n",
      "  warnings.warn(\n",
      "\n",
      "C:\\Users\\user\\PycharmProjects\\qwerty\\venv\\Lib\\site-packages\\xgboost\\core.py:158: UserWarning: [01:18:05] WARNING: C:\\buildkite-agent\\builds\\buildkite-windows-cpu-autoscaling-group-i-06abd128ca6c1688d-1\\xgboost\\xgboost-ci-windows\\src\\c_api\\c_api.cc:1374: Saving model in the UBJSON format as default.  You can use file extension: `json`, `ubj` or `deprecated` to choose between formats.\n",
      "  warnings.warn(smsg, UserWarning)\n",
      "\n"
     ]
    },
    {
     "name": "stdout",
     "output_type": "stream",
     "text": [
      "Run ID: 98f8bc29d0a240e280d0f6c79ea8ba83, RMSE: 2.991871461768265                                                                                              \n",
      " 98%|██████████████████████████████████████████████████████████████████████████████████████▏ | 49/50 [02:31<00:03,  3.23s/trial, best loss: 2.9754679365078545]"
     ]
    },
    {
     "name": "stderr",
     "output_type": "stream",
     "text": [
      "C:\\Users\\user\\PycharmProjects\\qwerty\\venv\\Lib\\site-packages\\_distutils_hack\\__init__.py:18: UserWarning: Distutils was imported before Setuptools, but importing Setuptools also replaces the `distutils` module in `sys.modules`. This may lead to undesirable behaviors or errors. To avoid these issues, avoid using distutils directly, ensure that setuptools is installed in the traditional way (e.g. not an editable install), and/or make sure that setuptools is always imported before distutils.\n",
      "  warnings.warn(\n",
      "\n",
      "C:\\Users\\user\\PycharmProjects\\qwerty\\venv\\Lib\\site-packages\\_distutils_hack\\__init__.py:33: UserWarning: Setuptools is replacing distutils.\n",
      "  warnings.warn(\"Setuptools is replacing distutils.\")\n",
      "\n",
      "C:\\Users\\user\\PycharmProjects\\qwerty\\venv\\Lib\\site-packages\\sklearn\\metrics\\_regression.py:492: FutureWarning: 'squared' is deprecated in version 1.4 and will be removed in 1.6. To calculate the root mean squared error, use the function'root_mean_squared_error'.\n",
      "  warnings.warn(\n",
      "\n",
      "C:\\Users\\user\\PycharmProjects\\qwerty\\venv\\Lib\\site-packages\\xgboost\\core.py:158: UserWarning: [01:18:09] WARNING: C:\\buildkite-agent\\builds\\buildkite-windows-cpu-autoscaling-group-i-06abd128ca6c1688d-1\\xgboost\\xgboost-ci-windows\\src\\c_api\\c_api.cc:1374: Saving model in the UBJSON format as default.  You can use file extension: `json`, `ubj` or `deprecated` to choose between formats.\n",
      "  warnings.warn(smsg, UserWarning)\n",
      "\n"
     ]
    },
    {
     "name": "stdout",
     "output_type": "stream",
     "text": [
      "Run ID: d702000c1a994b9e8ea32fb2bc4c1320, RMSE: 3.2453762065109095                                                                                             \n",
      "100%|████████████████████████████████████████████████████████████████████████████████████████| 50/50 [02:34<00:00,  3.10s/trial, best loss: 2.9754679365078545]\n",
      "Best parameters: {'early_stopping_rounds': 1, 'gamma': 0.09075014030075113, 'learning_rate': 0.04447507493826804, 'max_depth': 2, 'num_boost_round': 2}\n",
      "Hyperparameter optimization and experiment logging completed\n"
     ]
    },
    {
     "name": "stderr",
     "output_type": "stream",
     "text": [
      "C:\\Users\\user\\PycharmProjects\\qwerty\\venv\\Lib\\site-packages\\_distutils_hack\\__init__.py:18: UserWarning: Distutils was imported before Setuptools, but importing Setuptools also replaces the `distutils` module in `sys.modules`. This may lead to undesirable behaviors or errors. To avoid these issues, avoid using distutils directly, ensure that setuptools is installed in the traditional way (e.g. not an editable install), and/or make sure that setuptools is always imported before distutils.\n",
      "  warnings.warn(\n",
      "\n",
      "C:\\Users\\user\\PycharmProjects\\qwerty\\venv\\Lib\\site-packages\\_distutils_hack\\__init__.py:33: UserWarning: Setuptools is replacing distutils.\n",
      "  warnings.warn(\"Setuptools is replacing distutils.\")\n",
      "\n"
     ]
    }
   ],
   "source": [
    "# Define the objective function\n",
    "def objective(params):\n",
    "    with mlflow.start_run() as run:\n",
    "        mlflow.set_tag(\"workspace\", \"inclass\")\n",
    "        mlflow.log_param(\"model_name\", \"XGBoost\")\n",
    "        mlflow.log_param(\"train_data\", \"green_tripdata_2024-03.parquet\")\n",
    "        \n",
    "        # Split the data into DMatrix format for XGBoost\n",
    "        dtrain = DMatrix(X_train, label=y_train)\n",
    "        dval = DMatrix(X_val, label=y_val)\n",
    "        \n",
    "        # Extract the parameters for XGBoost\n",
    "        xgb_params = {key: params[key] for key in params if key not in ['num_boost_round', 'early_stopping_rounds']}\n",
    "        \n",
    "        # Train the model with early stopping\n",
    "        evals = [(dval, 'eval'), (dtrain, 'train')]\n",
    "        model = xgb_train(\n",
    "            xgb_params, \n",
    "            dtrain, \n",
    "            num_boost_round=params['num_boost_round'], \n",
    "            evals=evals, \n",
    "            early_stopping_rounds=params['early_stopping_rounds'],\n",
    "            verbose_eval=False\n",
    "        )\n",
    "        \n",
    "        # Predict on the validation set using the best iteration\n",
    "        best_iteration = model.best_iteration if model.best_iteration is not None else params['num_boost_round']\n",
    "        y_pred = model.predict(dval, iteration_range=(0, best_iteration))\n",
    "        \n",
    "        # Calculate RMSE\n",
    "        rmse = mean_squared_error(y_val, y_pred, squared=False)\n",
    "        mlflow.log_metric(\"rmse\", rmse)\n",
    "        \n",
    "        # Log the model\n",
    "        mlflow.xgboost.log_model(model, \"model\")\n",
    "        \n",
    "        # Log the parameters\n",
    "        for param, value in params.items():\n",
    "            mlflow.log_param(param, value)\n",
    "        \n",
    "        # Print run_id for verification\n",
    "        print(f\"Run ID: {run.info.run_id}, RMSE: {rmse}\")\n",
    "\n",
    "        return {'loss': rmse, 'status': STATUS_OK}\n",
    "\n",
    "# Perform hyperparameter optimization\n",
    "trials = Trials()\n",
    "best = fmin(fn=objective, space=space, algo=tpe.suggest, max_evals=50, trials=trials)\n",
    "\n",
    "print(\"Best parameters:\", best)\n",
    "\n",
    "print('Hyperparameter optimization and experiment logging completed')"
   ]
  },
  {
   "cell_type": "markdown",
   "id": "ad524d49-ecf8-48e8-8efd-0b539c175093",
   "metadata": {},
   "source": [
    "### Load model"
   ]
  },
  {
   "cell_type": "code",
   "execution_count": 18,
   "id": "f34c86b1-cfe6-406e-a75d-4c2563376bc6",
   "metadata": {},
   "outputs": [],
   "source": [
    "logged_model_id = 'runs:/d2c5d41c65524388bdd18e8ad385317d/model'\n",
    "loaded_model = mlflow.pyfunc.load_model(logged_model_id)"
   ]
  },
  {
   "cell_type": "code",
   "execution_count": 19,
   "id": "87e465b9-f3b7-41b5-b06c-3590408269f0",
   "metadata": {},
   "outputs": [
    {
     "data": {
      "text/plain": [
       "mlflow.pyfunc.PyFuncModel"
      ]
     },
     "execution_count": 19,
     "metadata": {},
     "output_type": "execute_result"
    }
   ],
   "source": [
    "type(loaded_model)"
   ]
  },
  {
   "cell_type": "code",
   "execution_count": 21,
   "id": "777b6062-fb70-4209-9f4b-43da9cb63359",
   "metadata": {},
   "outputs": [],
   "source": [
    "from mlflow import MlflowClient\n"
   ]
  },
  {
   "cell_type": "code",
   "execution_count": 23,
   "id": "852a7137-70ee-44eb-b2c2-ec66c2bc3408",
   "metadata": {},
   "outputs": [
    {
     "data": {
      "text/plain": [
       "<Experiment: artifact_location='file:///C:/Users/user/PycharmProjects/qwerty/mlruns/1', creation_time=1721082632454, experiment_id='1', last_update_time=1721082632454, lifecycle_stage='active', name='green_taxi', tags={}>"
      ]
     },
     "execution_count": 23,
     "metadata": {},
     "output_type": "execute_result"
    }
   ],
   "source": [
    "client = MlflowClient()\n",
    "client.get_experiment_by_name('green_taxi')\n"
   ]
  },
  {
   "cell_type": "code",
   "execution_count": 24,
   "id": "84eff9d4-f78d-4ac0-b1b4-6fc61ff0f10f",
   "metadata": {},
   "outputs": [],
   "source": [
    "runs = client.search_runs(experiment_ids='1')"
   ]
  },
  {
   "cell_type": "code",
   "execution_count": 25,
   "id": "5f3ac7f5-8e7c-4648-bd2a-790883933296",
   "metadata": {},
   "outputs": [
    {
     "data": {
      "text/plain": [
       "54"
      ]
     },
     "execution_count": 25,
     "metadata": {},
     "output_type": "execute_result"
    }
   ],
   "source": [
    "len(runs)"
   ]
  },
  {
   "cell_type": "code",
   "execution_count": 27,
   "id": "a9530229-fbcf-461d-a8c4-669c8df21549",
   "metadata": {
    "scrolled": true
   },
   "outputs": [
    {
     "name": "stdout",
     "output_type": "stream",
     "text": [
      "run_id = d702000c1a994b9e8ea32fb2bc4c1320, rmse = {'rmse': 3.2453762065109095}\n",
      "run_id = 98f8bc29d0a240e280d0f6c79ea8ba83, rmse = {'rmse': 2.991871461768265}\n",
      "run_id = 376b588b186e489095698d5c6d2dfd2a, rmse = {'rmse': 3.003389292754948}\n",
      "run_id = 101690934d1f4d17ab979cf9137ed7e9, rmse = {'rmse': 3.0130361865028696}\n",
      "run_id = f5c5c5cc3fe64c00a3406b47423c1a1f, rmse = {'rmse': 3.0167878076877908}\n",
      "run_id = 6e8ae133769e4d11ae8c9e582fd80ab5, rmse = {'rmse': 3.0575644569719236}\n",
      "run_id = 2379f7698711481ab8c3fb4955394708, rmse = {'rmse': 3.3811975978429474}\n",
      "run_id = c1674f4dc9f44ed58e58255f1bf2b49f, rmse = {'rmse': 3.032297771060551}\n",
      "run_id = 8e0cfe8db0bb44bbb52b410a5d3821ff, rmse = {'rmse': 3.0065371971354335}\n",
      "run_id = 7697b74d3fe84847b5823895d57e7c5f, rmse = {'rmse': 3.005297152585824}\n",
      "run_id = 39371c97d2f844fb8334040fe1d4ccb9, rmse = {'rmse': 3.277196016766832}\n",
      "run_id = df5325ca753b468d99ec4443def49044, rmse = {'rmse': 2.9992501443896824}\n",
      "run_id = 0442684afe664b3c9e2f25a43f74ebab, rmse = {'rmse': 2.9875230983872574}\n",
      "run_id = 28c3d692d6e0430ea18c19f709a911d6, rmse = {'rmse': 3.25623083776254}\n",
      "run_id = c89dd5d7af274ad2b19add7b6aa68834, rmse = {'rmse': 3.028147423425457}\n",
      "run_id = 428efe5421a94c7d8dc1c8624af709cc, rmse = {'rmse': 2.987181962787642}\n",
      "run_id = 6116cde95a204b97afd2c68c159b6f7f, rmse = {'rmse': 3.4395234143691633}\n",
      "run_id = f9af7e70d1cf488cb1b01fcacd227156, rmse = {'rmse': 2.9933067623014313}\n",
      "run_id = e10970b332ac4fc1ba50d2dd98a182b7, rmse = {'rmse': 3.0655164689141516}\n",
      "run_id = c2e9a3f89fb54af7b62f28c56e8b20fa, rmse = {'rmse': 3.7684438877237967}\n",
      "run_id = 6b7c1ec176864b3b90ef04788f9d35f0, rmse = {'rmse': 2.992418651174891}\n",
      "run_id = be8a0f8e25034664b9158d14212219fe, rmse = {'rmse': 3.0135704453544263}\n",
      "run_id = 2146c1c672354f6187ae6f6c8de95410, rmse = {'rmse': 3.010504499179992}\n",
      "run_id = 5eaec91f24314c128eaeb392b8b669fb, rmse = {'rmse': 3.0166445497488397}\n",
      "run_id = 8c7ecb3d18904d518f8cd7fb880adea4, rmse = {'rmse': 3.00061507092604}\n",
      "run_id = 0366fd88d0a649b8825017d10efe5cbd, rmse = {'rmse': 3.2518824002075783}\n",
      "run_id = aa6f1caef7da49b7961d7a75ee365e5e, rmse = {'rmse': 3.0798336177734202}\n",
      "run_id = d55153c98bde4ccba0c2584f18a9d572, rmse = {'rmse': 3.0005930012323665}\n",
      "run_id = d2b376d1662f4cbaaf6f4087e2b9d997, rmse = {'rmse': 2.9954255324803643}\n",
      "run_id = bc70c3a01bbb422ea9579c35fa505397, rmse = {'rmse': 2.993232175659157}\n",
      "run_id = 41a46aceeb23499c909560870aa338dd, rmse = {'rmse': 3.1181310715545876}\n",
      "run_id = 8ee39e8a61aa4ea4ba4604f8a6a5035e, rmse = {'rmse': 3.003831654013616}\n",
      "run_id = 9a9dfd1303e742ff8850066d554f6da5, rmse = {'rmse': 3.0309830190460967}\n",
      "run_id = 05ce86cfbbb74cd7aca664bff8f43a0d, rmse = {'rmse': 3.021457201689418}\n",
      "run_id = cce49f52241f464aa5f21691ecf7f2c7, rmse = {'rmse': 2.984166933997451}\n",
      "run_id = a7f639202b444420bcdb6e9d64386c70, rmse = {'rmse': 3.0246422713579615}\n",
      "run_id = 8b12da859f544508859b36a95a2da4fb, rmse = {'rmse': 3.0167669855053307}\n",
      "run_id = ba7fc5810a2d4215a8556ff885afca27, rmse = {'rmse': 2.9863883077108575}\n",
      "run_id = dc3d5fd5dd4345d4966a0f3de1e4d717, rmse = {'rmse': 2.990562616783642}\n",
      "run_id = 40b7e9df67cf4b1386b45d847eac721e, rmse = {'rmse': 2.9972247554560947}\n",
      "run_id = 9fcff2efd25549a88e6b9face8601ab5, rmse = {'rmse': 3.0341576731962827}\n",
      "run_id = 4c2f3226836540f891f331aaa4fb0ceb, rmse = {'rmse': 3.0055876206014314}\n",
      "run_id = cb61562fb36e4830a51250245e146c8a, rmse = {'rmse': 3.4521389404031355}\n",
      "run_id = 10e84b330c5647639679cdc44618b880, rmse = {'rmse': 3.0732172771879105}\n",
      "run_id = d2c5d41c65524388bdd18e8ad385317d, rmse = {'rmse': 2.9754679365078545}\n",
      "run_id = 56c9551ce3d247ccb598a6a2e1edd7f1, rmse = {'rmse': 3.0073205162480443}\n",
      "run_id = 7428431c18744c0b93a06bafdb9e747a, rmse = {'rmse': 3.0793930522102175}\n",
      "run_id = 4d76b078e41f40ed94b7bd07ab97490e, rmse = {'rmse': 3.2265783685751677}\n",
      "run_id = d492a82470a54215a57f0a70e7add3a0, rmse = {'rmse': 3.232038294231299}\n",
      "run_id = bce7ec135342427786be774b6357f0b3, rmse = {'rmse': 3.01484313959433}\n",
      "run_id = d9bf5d20894141b2b786d45498825a54, rmse = {'rmse': 3.0408032407468317}\n",
      "run_id = 1573793f0aab498dbf4127637a5d2554, rmse = {'rmse': 29.148545881396135}\n",
      "run_id = 3a54b5aa8ae740b8b77d5cae8d7c7fa7, rmse = {'rmse': 29.148545881396135}\n",
      "run_id = 9a22fd98842040aab6550454e7bf4c71, rmse = {'rmse': 29.148545881396135}\n"
     ]
    }
   ],
   "source": [
    "for run in runs:\n",
    "    print(f\"run_id = {run.info.run_id}, rmse = {run.data.metrics}\")"
   ]
  },
  {
   "cell_type": "code",
   "execution_count": 39,
   "id": "010f4a83-6ddb-4cf8-9586-376dc9b9ad4e",
   "metadata": {},
   "outputs": [
    {
     "name": "stdout",
     "output_type": "stream",
     "text": [
      "5\n"
     ]
    }
   ],
   "source": [
    "# Filter runs with rmse < thr (threshold)\n",
    "thr = 2.99\n",
    "filtered_runs = []\n",
    "for run in runs:\n",
    "    metrics = run.data.metrics\n",
    "    if 'rmse' in metrics and metrics['rmse'] < thr:\n",
    "        filtered_runs.append({\n",
    "            'run_id': run.info.run_id,\n",
    "            'experiment_id': run.info.experiment_id,\n",
    "            'rmse': metrics['rmse'],\n",
    "            'status': run.info.status,\n",
    "            'start_time': run.info.start_time,\n",
    "            'end_time': run.info.end_time,\n",
    "            'ordered_by':[\"metrics.rmse ASC\"],\n",
    "        })\n",
    "print(len(filtered_runs)) # 5 best options\n",
    "\n",
    "# Convert the filtered runs to a DataFrame\n",
    "filtered_runs_df = pd.DataFrame(filtered_runs)"
   ]
  },
  {
   "cell_type": "code",
   "execution_count": 40,
   "id": "a89b197e-5a75-4917-bf6d-a19d57d25ddb",
   "metadata": {},
   "outputs": [
    {
     "data": {
      "text/html": [
       "<div>\n",
       "<style scoped>\n",
       "    .dataframe tbody tr th:only-of-type {\n",
       "        vertical-align: middle;\n",
       "    }\n",
       "\n",
       "    .dataframe tbody tr th {\n",
       "        vertical-align: top;\n",
       "    }\n",
       "\n",
       "    .dataframe thead th {\n",
       "        text-align: right;\n",
       "    }\n",
       "</style>\n",
       "<table border=\"1\" class=\"dataframe\">\n",
       "  <thead>\n",
       "    <tr style=\"text-align: right;\">\n",
       "      <th></th>\n",
       "      <th>run_id</th>\n",
       "      <th>experiment_id</th>\n",
       "      <th>rmse</th>\n",
       "      <th>status</th>\n",
       "      <th>start_time</th>\n",
       "      <th>end_time</th>\n",
       "      <th>ordered_by</th>\n",
       "    </tr>\n",
       "  </thead>\n",
       "  <tbody>\n",
       "    <tr>\n",
       "      <th>0</th>\n",
       "      <td>0442684afe664b3c9e2f25a43f74ebab</td>\n",
       "      <td>1</td>\n",
       "      <td>2.987523</td>\n",
       "      <td>FINISHED</td>\n",
       "      <td>1721085449236</td>\n",
       "      <td>1721085452838</td>\n",
       "      <td>[metrics.rmse ASC]</td>\n",
       "    </tr>\n",
       "    <tr>\n",
       "      <th>1</th>\n",
       "      <td>428efe5421a94c7d8dc1c8624af709cc</td>\n",
       "      <td>1</td>\n",
       "      <td>2.987182</td>\n",
       "      <td>FINISHED</td>\n",
       "      <td>1721085440426</td>\n",
       "      <td>1721085443651</td>\n",
       "      <td>[metrics.rmse ASC]</td>\n",
       "    </tr>\n",
       "    <tr>\n",
       "      <th>2</th>\n",
       "      <td>cce49f52241f464aa5f21691ecf7f2c7</td>\n",
       "      <td>1</td>\n",
       "      <td>2.984167</td>\n",
       "      <td>FINISHED</td>\n",
       "      <td>1721085380614</td>\n",
       "      <td>1721085383443</td>\n",
       "      <td>[metrics.rmse ASC]</td>\n",
       "    </tr>\n",
       "    <tr>\n",
       "      <th>3</th>\n",
       "      <td>ba7fc5810a2d4215a8556ff885afca27</td>\n",
       "      <td>1</td>\n",
       "      <td>2.986388</td>\n",
       "      <td>FINISHED</td>\n",
       "      <td>1721085370712</td>\n",
       "      <td>1721085374367</td>\n",
       "      <td>[metrics.rmse ASC]</td>\n",
       "    </tr>\n",
       "    <tr>\n",
       "      <th>4</th>\n",
       "      <td>d2c5d41c65524388bdd18e8ad385317d</td>\n",
       "      <td>1</td>\n",
       "      <td>2.975468</td>\n",
       "      <td>FINISHED</td>\n",
       "      <td>1721085349944</td>\n",
       "      <td>1721085353580</td>\n",
       "      <td>[metrics.rmse ASC]</td>\n",
       "    </tr>\n",
       "  </tbody>\n",
       "</table>\n",
       "</div>"
      ],
      "text/plain": [
       "                             run_id experiment_id      rmse    status  \\\n",
       "0  0442684afe664b3c9e2f25a43f74ebab             1  2.987523  FINISHED   \n",
       "1  428efe5421a94c7d8dc1c8624af709cc             1  2.987182  FINISHED   \n",
       "2  cce49f52241f464aa5f21691ecf7f2c7             1  2.984167  FINISHED   \n",
       "3  ba7fc5810a2d4215a8556ff885afca27             1  2.986388  FINISHED   \n",
       "4  d2c5d41c65524388bdd18e8ad385317d             1  2.975468  FINISHED   \n",
       "\n",
       "      start_time       end_time          ordered_by  \n",
       "0  1721085449236  1721085452838  [metrics.rmse ASC]  \n",
       "1  1721085440426  1721085443651  [metrics.rmse ASC]  \n",
       "2  1721085380614  1721085383443  [metrics.rmse ASC]  \n",
       "3  1721085370712  1721085374367  [metrics.rmse ASC]  \n",
       "4  1721085349944  1721085353580  [metrics.rmse ASC]  "
      ]
     },
     "execution_count": 40,
     "metadata": {},
     "output_type": "execute_result"
    }
   ],
   "source": [
    "filtered_runs_df.head()"
   ]
  }
 ],
 "metadata": {
  "interpreter": {
   "hash": "0848c9d6c7d415ad6c477ff7ff8e98694d1a4aa96d0deee89244642e6b630036"
  },
  "kernelspec": {
   "display_name": "Python 3 (ipykernel)",
   "language": "python",
   "name": "python3"
  },
  "language_info": {
   "codemirror_mode": {
    "name": "ipython",
    "version": 3
   },
   "file_extension": ".py",
   "mimetype": "text/x-python",
   "name": "python",
   "nbconvert_exporter": "python",
   "pygments_lexer": "ipython3",
   "version": "3.11.9"
  }
 },
 "nbformat": 4,
 "nbformat_minor": 5
}
